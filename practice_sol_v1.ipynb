{
 "cells": [
  {
   "cell_type": "markdown",
   "metadata": {},
   "source": [
    "# Semantic Segmentation Practice"
   ]
  },
  {
   "cell_type": "code",
   "execution_count": 1,
   "metadata": {},
   "outputs": [],
   "source": [
    "%matplotlib inline\n",
    "%load_ext autoreload\n",
    "%autoreload 2\n",
    "%load_ext ipython_unittest\n",
    "\n",
    "import os, sys\n",
    "import matplotlib.pyplot as plt\n",
    "import unittest\n",
    "import numpy as np\n",
    "import utils\n",
    "import torch\n",
    "import torch.nn.functional as F"
   ]
  },
  {
   "cell_type": "markdown",
   "metadata": {},
   "source": [
    "## Dataset"
   ]
  },
  {
   "cell_type": "markdown",
   "metadata": {},
   "source": [
    "### Create Datasets"
   ]
  },
  {
   "cell_type": "code",
   "execution_count": 2,
   "metadata": {},
   "outputs": [],
   "source": [
    "from datasets.simulation import SimDataset\n",
    "from torch.utils.data import Dataset, DataLoader\n",
    "from torchvision import transforms, datasets, models\n",
    "\n",
    "transform = transforms.Compose([\n",
    "    transforms.ToTensor(),\n",
    "])\n",
    "\n",
    "train_set = SimDataset(2000, transform = transform)\n",
    "val_set = SimDataset(200, transform = transform)\n",
    "\n",
    "image_datasets = {\n",
    "    'train': train_set, \n",
    "    'val': val_set\n",
    "}"
   ]
  },
  {
   "cell_type": "markdown",
   "metadata": {},
   "source": [
    "### Explore SimDataset"
   ]
  },
  {
   "cell_type": "code",
   "execution_count": 3,
   "metadata": {},
   "outputs": [
    {
     "name": "stdout",
     "output_type": "stream",
     "text": [
      "Image Size: torch.Size([3, 128, 128])\n",
      "Mask Size: (5, 128, 128)\n",
      "Number of Classes: 5\n"
     ]
    }
   ],
   "source": [
    "image, mask = train_set[0]\n",
    "print(\"Image Size: {}\".format(image.size()))\n",
    "print(\"Mask Size: {}\".format(mask.shape))\n",
    "print(\"Number of Classes: {}\".format(mask.shape[0]))"
   ]
  },
  {
   "cell_type": "code",
   "execution_count": 4,
   "metadata": {},
   "outputs": [
    {
     "data": {
      "image/png": "[encoded data removed]",
      "text/plain": [
       "<Figure size 576x864 with 6 Axes>"
      ]
     },
     "metadata": {
      "needs_background": "light"
     },
     "output_type": "display_data"
    }
   ],
   "source": [
    "num_to_show = 3\n",
    "input_images, target_masks = zip(*[train_set.get_raw_item(i) for i in range(num_to_show)])\n",
    "\n",
    "# Change channel-order and make 3 channels for matplot\n",
    "input_images_rgb = [x.astype(np.uint8) for x in input_images]\n",
    "\n",
    "# Map each channel (i.e. class) to each color\n",
    "target_masks_rgb = [utils.masks_to_colorimg(x) for x in target_masks]\n",
    "\n",
    "# Left: Input image, Right: Target mask (Ground-truth)\n",
    "utils.plot_side_by_side([input_images_rgb, target_masks_rgb])"
   ]
  },
  {
   "cell_type": "markdown",
   "metadata": {},
   "source": [
    "# Model: FCN 4s"
   ]
  },
  {
   "cell_type": "markdown",
   "metadata": {},
   "source": [
    "### Fusion : Matching Channel Size + Addition"
   ]
  },
  {
   "cell_type": "code",
   "execution_count": 5,
   "metadata": {},
   "outputs": [],
   "source": [
    "import torch.nn as nn\n",
    "from torchvision import models\n",
    "\n",
    "\n",
    "class Fusion(nn.Module):\n",
    "    def __init__(self, upper_channel_size: int, lower_channel_size: int):\n",
    "        super().__init__()\n",
    "        self.conv = nn.Conv2d(upper_channel_size, lower_channel_size, kernel_size=1)\n",
    "        self.relu = nn.ReLU()\n",
    "\n",
    "    def forward(self, upper_feature_map: torch.Tensor, lower_feature_map: torch.Tensor) -> torch.Tensor:\n",
    "        out = self.conv(upper_feature_map) + lower_feature_map\n",
    "        out = self.relu(out)\n",
    "\n",
    "        return out"
   ]
  },
  {
   "cell_type": "code",
   "execution_count": 6,
   "metadata": {},
   "outputs": [
    {
     "data": {
      "application/unittest.status+json": {
       "color": "yellow",
       "message": "",
       "previous": 0
      },
      "text/plain": []
     },
     "metadata": {},
     "output_type": "display_data"
    },
    {
     "data": {
      "application/unittest.status+json": {
       "color": "lightgreen",
       "message": "..\n----------------------------------------------------------------------\nRan 2 tests in 0.066s\n\nOK\n",
       "previous": 0
      },
      "text/plain": [
       "Success"
      ]
     },
     "metadata": {},
     "output_type": "display_data"
    },
    {
     "name": "stdout",
     "output_type": "stream",
     "text": [
      "..\n",
      "----------------------------------------------------------------------\n",
      "Ran 2 tests in 0.066s\n",
      "\n",
      "OK\n"
     ]
    },
    {
     "data": {
      "text/plain": [
       "<unittest.runner.TextTestResult run=2 errors=0 failures=0>"
      ]
     },
     "execution_count": 6,
     "metadata": {},
     "output_type": "execute_result"
    }
   ],
   "source": [
    "%%unittest_main\n",
    "\n",
    "\n",
    "class TestFusion(unittest.TestCase):\n",
    "    def setUp(self):\n",
    "        self.batch_size = 5\n",
    "        self.feature_height = 32\n",
    "        self.feature_width = 32\n",
    "        self.epsilon = 1e-4\n",
    "    \n",
    "    def test_fused_feature_size_should_be_equal_to_lower_feature_map_size(self):\n",
    "        upper_feature_channel_size = 64\n",
    "        lower_feature_channel_size = 32\n",
    "\n",
    "        upper_features = torch.randn(self.batch_size, upper_feature_channel_size, self.feature_height, self.feature_width)\n",
    "        lower_features = torch.randn(self.batch_size, lower_feature_channel_size, self.feature_height, self.feature_width)\n",
    "        \n",
    "        fusion = Fusion(upper_feature_channel_size, lower_feature_channel_size)\n",
    "        fused_features = fusion(upper_features, lower_features)\n",
    "        self.assertTupleEqual(lower_features.size(), fused_features.size())\n",
    "        \n",
    "    def test_fused_feature_values(self):\n",
    "        upper_feature_channel_size = 128\n",
    "        lower_feature_channel_size = 64\n",
    "\n",
    "        upper_features = torch.randn(self.batch_size, upper_feature_channel_size, self.feature_height, self.feature_width)\n",
    "        lower_features = torch.randn(self.batch_size, lower_feature_channel_size, self.feature_height, self.feature_width)\n",
    "        \n",
    "        fusion = Fusion(upper_feature_channel_size, lower_feature_channel_size)\n",
    "        fused_features = fusion(upper_features, lower_features)\n",
    "        self.assertTupleEqual(lower_features.size(), fused_features.size())\n",
    "        self.assertEqual(lower_features.numel(), \n",
    "                         torch.sum(fused_features + self.epsilon > fusion.conv(upper_features) + lower_features))   "
   ]
  },
  {
   "cell_type": "markdown",
   "metadata": {},
   "source": [
    "### Coding the FCN 4s"
   ]
  },
  {
   "cell_type": "code",
   "execution_count": 7,
   "metadata": {},
   "outputs": [],
   "source": [
    "class FCN4s(nn.Module):\n",
    "\n",
    "    def __init__(self, n_class):\n",
    "        super().__init__()\n",
    "\n",
    "        self.base_model = models.resnet18(pretrained=True)\n",
    "\n",
    "        layers = list(self.base_model.children())\n",
    "        self.layer1 = nn.Sequential(*layers[:5])  # size=(N, 64, x.H/4, x.W/4)\n",
    "        self.layer2 = layers[5]  # size=(N, 128, x.H/8, x.W/8)\n",
    "        self.layer3 = layers[6]  # size=(N, 256, x.H/16, x.W/16)\n",
    "        self.layer4 = layers[7]  # size=(N, 512, x.H/32, x.W/32)\n",
    "\n",
    "        self.upsample = nn.Upsample(scale_factor=2, mode='bilinear', align_corners=False)\n",
    "\n",
    "        self.fuse_fm4_and_fm3 = Fusion(512, 256)\n",
    "        self.fuse_fm3_and_fm2 = Fusion(256, 128)\n",
    "        self.fuse_fm2_and_fm1 = Fusion(128, 64)\n",
    "\n",
    "        self.conv1k = nn.Conv2d(64, n_class, 1)\n",
    "\n",
    "    def forward(self, x):\n",
    "        fm1 = self.layer1(x)  # size=(N, 64, x.H/4, x.W/4)\n",
    "        fm2 = self.layer2(fm1)  # size=(N, 128, x.H/8, x.W/8)\n",
    "        fm3 = self.layer3(fm2)  # size=(N, 256, x.H/16, x.W/16)\n",
    "        fm4 = self.layer4(fm3)  # size=(N, 512, x.H/32, x.W/32)\n",
    "\n",
    "        up4 = self.upsample(fm4)  # size=(N, 512, x.H/16, x.W/16)\n",
    "        fs43 = self.fuse_fm4_and_fm3(up4, fm3)  # size=(N, 256, x.H/16, x.W/16)\n",
    "\n",
    "        up3 = self.upsample(fs43)  # size=(N, 256, x.H/8, x.W/8)\n",
    "        fs32 = self.fuse_fm3_and_fm2(up3, fm2)  # size=(N, 128, x.H/8, x.W/8)\n",
    "\n",
    "        up2 = self.upsample(fs32)  # size=(N, 128, x.H/4, x.W/4)\n",
    "        fs21 = self.fuse_fm2_and_fm1(up2, fm1)  # size=(N, 64, x.H/4, x.W/4)\n",
    "\n",
    "        up1 = self.upsample(fs21)  # size=(N, 64, x.H/2, x.W/2)\n",
    "        up1 = self.upsample(up1)  # size=(N, 64, x.H, x.W)\n",
    "        return self.conv1k(up1)\n"
   ]
  },
  {
   "cell_type": "code",
   "execution_count": 8,
   "metadata": {},
   "outputs": [
    {
     "data": {
      "application/unittest.status+json": {
       "color": "yellow",
       "message": "",
       "previous": 0
      },
      "text/plain": []
     },
     "metadata": {},
     "output_type": "display_data"
    },
    {
     "data": {
      "application/unittest.status+json": {
       "color": "lightgreen",
       "message": "..\n----------------------------------------------------------------------\nRan 2 tests in 0.680s\n\nOK\n",
       "previous": 0
      },
      "text/plain": [
       "Success"
      ]
     },
     "metadata": {},
     "output_type": "display_data"
    },
    {
     "name": "stdout",
     "output_type": "stream",
     "text": [
      "..\n",
      "----------------------------------------------------------------------\n",
      "Ran 2 tests in 0.680s\n",
      "\n",
      "OK\n"
     ]
    },
    {
     "data": {
      "text/plain": [
       "<unittest.runner.TextTestResult run=2 errors=0 failures=0>"
      ]
     },
     "execution_count": 8,
     "metadata": {},
     "output_type": "execute_result"
    }
   ],
   "source": [
    "%%unittest_main\n",
    "\n",
    "\n",
    "class TestFCN4s(unittest.TestCase):\n",
    "    def test_fcn4s_output_size1(self):\n",
    "        batch_size = 3\n",
    "        num_channel, image_H, image_W = 3, 128, 128\n",
    "        n_class = 5\n",
    "        \n",
    "        inputs = torch.randn(batch_size, num_channel, image_H, image_W)\n",
    "        model = FCN4s(n_class=n_class)\n",
    "        outputs = model(inputs)\n",
    "        self.assertTupleEqual((batch_size, n_class, image_H, image_W), outputs.size())\n",
    "        \n",
    "    def test_fcn4s_output_size2(self):\n",
    "        batch_size = 5\n",
    "        num_channel, image_H, image_W = 3, 64, 64\n",
    "        n_class = 12\n",
    "        \n",
    "        inputs = torch.randn(batch_size, num_channel, image_H, image_W)\n",
    "        model = FCN4s(n_class=n_class)\n",
    "        outputs = model(inputs)\n",
    "        self.assertTupleEqual((batch_size, n_class, image_H, image_W), outputs.size()) "
   ]
  },
  {
   "cell_type": "markdown",
   "metadata": {},
   "source": [
    "# Train FCN 4s"
   ]
  },
  {
   "cell_type": "markdown",
   "metadata": {},
   "source": [
    "## Trainer"
   ]
  },
  {
   "cell_type": "code",
   "execution_count": 9,
   "metadata": {},
   "outputs": [],
   "source": [
    "import copy\n",
    "import time\n",
    "\n",
    "import torch\n",
    "import torch.nn.functional as F\n",
    "\n",
    "from losses import dice_loss_with_logits\n",
    "from metric import AverageMeterSet\n",
    "\n",
    "\n",
    "def print_metrics(phase, average_meter_set: AverageMeterSet):\n",
    "    results = [\"{}: {:4f}\".format(k, v) for k, v in average_meter_set.averages().items()]\n",
    "    print(\"{}: {}\".format(phase, \", \".join(results)))\n",
    "\n",
    "\n",
    "def train_one_epoch(model, dataloader, optimizer, device, bce_weight=0.5):\n",
    "    average_meter_set = AverageMeterSet()\n",
    "    for inputs, labels in dataloader:\n",
    "        inputs = inputs.to(device)\n",
    "        targets = labels.to(device)\n",
    "\n",
    "        # zero the parameter gradients\n",
    "        optimizer.zero_grad()\n",
    "\n",
    "        # forward\n",
    "        # track history if only in train\n",
    "        logits = model(inputs)\n",
    "\n",
    "        bce_loss = F.binary_cross_entropy_with_logits(logits, targets)\n",
    "        dice_loss = dice_loss_with_logits(logits, targets)\n",
    "\n",
    "        loss = bce_loss * bce_weight + dice_loss * (1 - bce_weight)\n",
    "\n",
    "        loss.backward()\n",
    "        optimizer.step()\n",
    "\n",
    "        average_meter_set.update('bce_loss', bce_loss.item())\n",
    "        average_meter_set.update('dice_loss', dice_loss.item())\n",
    "        average_meter_set.update('loss', loss.item())\n",
    "\n",
    "    return average_meter_set, model\n",
    "\n",
    "\n",
    "def validate(model, dataloader, device, bce_weight=0.5):\n",
    "    average_meter_set = AverageMeterSet()\n",
    "    with torch.no_grad():\n",
    "        for inputs, labels in dataloader:\n",
    "            inputs = inputs.to(device)\n",
    "            targets = labels.to(device)\n",
    "\n",
    "            logits = model(inputs)\n",
    "\n",
    "            bce_loss = F.binary_cross_entropy_with_logits(logits, targets)\n",
    "            dice_loss = dice_loss_with_logits(logits, targets)\n",
    "\n",
    "            loss = bce_loss * bce_weight + dice_loss * (1 - bce_weight)\n",
    "\n",
    "            average_meter_set.update('bce_loss', bce_loss.item())\n",
    "            average_meter_set.update('dice_loss', dice_loss.item())\n",
    "            average_meter_set.update('loss', loss.item())\n",
    "\n",
    "    return average_meter_set\n",
    "\n",
    "\n",
    "def train_model(model, dataloaders, optimizer, lr_scheduler, device, bce_weight=0.5, num_epochs=25):\n",
    "    model = model.to(device)\n",
    "    best_model_wts = copy.deepcopy(model.state_dict())\n",
    "    best_loss = 1e10\n",
    "\n",
    "    for epoch in range(num_epochs):\n",
    "        print('Epoch {}/{}'.format(epoch, num_epochs - 1))\n",
    "        print('-' * 10)\n",
    "\n",
    "        since = time.time()\n",
    "\n",
    "        # Each epoch has a training and validation phase\n",
    "        for phase in ['train', 'val']:\n",
    "            if phase == 'train':\n",
    "                model.train()  # Set model to training mode\n",
    "                for param_group in optimizer.param_groups:\n",
    "                    print(\"LR\", param_group['lr'])\n",
    "                average_meter_set, model = train_one_epoch(model, dataloaders[phase], optimizer, device, bce_weight)\n",
    "                print_metrics(phase, average_meter_set)\n",
    "                lr_scheduler.step()\n",
    "            else:\n",
    "                model.eval()  # Set model to evaluate mode\n",
    "                average_meter_set = validate(model, dataloaders[phase], device, bce_weight)\n",
    "                print_metrics(phase, average_meter_set)\n",
    "                epoch_loss = average_meter_set.averages()['loss']\n",
    "\n",
    "                if epoch_loss < best_loss:\n",
    "                    print(\"Saving the Best Model\")\n",
    "                    best_loss = epoch_loss\n",
    "                    best_model_wts = copy.deepcopy(model.state_dict())\n",
    "\n",
    "        time_elapsed = time.time() - since\n",
    "        print('{:.0f}m {:.0f}s'.format(time_elapsed // 60, time_elapsed % 60))\n",
    "    print('Best val loss: {:4f}'.format(best_loss))\n",
    "\n",
    "    # load best model weights\n",
    "    model.load_state_dict(best_model_wts)\n",
    "    return model"
   ]
  },
  {
   "cell_type": "markdown",
   "metadata": {},
   "source": [
    "### Training Configurations"
   ]
  },
  {
   "cell_type": "code",
   "execution_count": 10,
   "metadata": {},
   "outputs": [],
   "source": [
    "device = torch.device(\"cuda:0\" if torch.cuda.is_available() else \"cpu\")\n",
    "batch_size = 25\n",
    "n_class = 5\n",
    "bce_weight = 0.5"
   ]
  },
  {
   "cell_type": "markdown",
   "metadata": {},
   "source": [
    "### DataLoader"
   ]
  },
  {
   "cell_type": "code",
   "execution_count": 11,
   "metadata": {},
   "outputs": [
    {
     "data": {
      "text/plain": [
       "{'train': 2000, 'val': 200}"
      ]
     },
     "execution_count": 11,
     "metadata": {},
     "output_type": "execute_result"
    }
   ],
   "source": [
    "dataloaders = {\n",
    "    'train': DataLoader(train_set, batch_size=batch_size, shuffle=True, num_workers=0),\n",
    "    'val': DataLoader(val_set, batch_size=batch_size, shuffle=True, num_workers=0)\n",
    "}\n",
    "\n",
    "dataset_sizes = {\n",
    "    x: len(image_datasets[x]) for x in image_datasets.keys()\n",
    "}\n",
    "\n",
    "dataset_sizes"
   ]
  },
  {
   "cell_type": "code",
   "execution_count": 12,
   "metadata": {},
   "outputs": [],
   "source": [
    "def reverse_transform(inp: torch.Tensor):\n",
    "    inp = inp.numpy().transpose((1, 2, 0))\n",
    "    inp = np.clip(inp, 0, 1)\n",
    "    inp = (inp * 255).astype(np.uint8)\n",
    "    \n",
    "    return inp"
   ]
  },
  {
   "cell_type": "code",
   "execution_count": 13,
   "metadata": {},
   "outputs": [
    {
     "name": "stdout",
     "output_type": "stream",
     "text": [
      "Inputs' Size should be [batch_size, num_channel, height, width]: torch.Size([25, 3, 128, 128])\n",
      "Masks' Size should be [batch_size, num_classes, height, width]: torch.Size([25, 5, 128, 128])\n",
      "0.0 1.0 0.042834472 0.20248385\n",
      "0.0 1.0 0.008780274 0.09329084\n"
     ]
    },
    {
     "data": {
      "text/plain": [
       "<matplotlib.image.AxesImage at 0x7f2a5957fd10>"
      ]
     },
     "execution_count": 13,
     "metadata": {},
     "output_type": "execute_result"
    },
    {
     "data": {
      "image/png": "[encoded data removed]",
      "text/plain": [
       "<Figure size 432x288 with 1 Axes>"
      ]
     },
     "metadata": {
      "needs_background": "light"
     },
     "output_type": "display_data"
    }
   ],
   "source": [
    "# Get a batch of training data\n",
    "inputs, masks = next(iter(dataloaders['train']))\n",
    "\n",
    "print(\"Inputs' Size should be [batch_size, num_channel, height, width]: {}\".format(inputs.shape))\n",
    "print(\"Masks' Size should be [batch_size, num_classes, height, width]: {}\".format(masks.shape))\n",
    "\n",
    "for x in [inputs.numpy(), masks.numpy()]:\n",
    "    print(x.min(), x.max(), x.mean(), x.std())\n",
    "\n",
    "plt.imshow(reverse_transform(inputs[3]))"
   ]
  },
  {
   "cell_type": "markdown",
   "metadata": {},
   "source": [
    "### Create Model, Optimizer, Learning Rate Scheduler"
   ]
  },
  {
   "cell_type": "code",
   "execution_count": 14,
   "metadata": {},
   "outputs": [],
   "source": [
    "import torch\n",
    "import torch.optim as optim\n",
    "from torch.optim import lr_scheduler\n",
    "\n",
    "fcn = FCN4s(n_class=n_class)\n",
    "# Observe that all parameters are being optimized\n",
    "optimizer_ft = optim.Adam(fcn.parameters(), lr=1e-3)\n",
    "\n",
    "exp_lr_scheduler = lr_scheduler.StepLR(optimizer_ft, step_size=15, gamma=0.1)"
   ]
  },
  {
   "cell_type": "markdown",
   "metadata": {},
   "source": [
    "### Let's Train"
   ]
  },
  {
   "cell_type": "code",
   "execution_count": 15,
   "metadata": {},
   "outputs": [
    {
     "name": "stdout",
     "output_type": "stream",
     "text": [
      "Epoch 0/24\n",
      "----------\n",
      "LR 0.001\n",
      "train: bce_loss: 0.058351, dice_loss: 0.577279, loss: 0.317815\n",
      "val: bce_loss: 0.023218, dice_loss: 0.389759, loss: 0.206488\n",
      "Saving the Best Model\n",
      "0m 3s\n",
      "Epoch 1/24\n",
      "----------\n",
      "LR 0.001\n",
      "train: bce_loss: 0.020697, dice_loss: 0.356216, loss: 0.188457\n",
      "val: bce_loss: 0.017929, dice_loss: 0.339650, loss: 0.178789\n",
      "Saving the Best Model\n",
      "0m 3s\n",
      "Epoch 2/24\n",
      "----------\n",
      "LR 0.001\n",
      "train: bce_loss: 0.015232, dice_loss: 0.330506, loss: 0.172869\n",
      "val: bce_loss: 0.015785, dice_loss: 0.320518, loss: 0.168151\n",
      "Saving the Best Model\n",
      "0m 3s\n",
      "Epoch 3/24\n",
      "----------\n",
      "LR 0.001\n",
      "train: bce_loss: 0.012620, dice_loss: 0.313715, loss: 0.163167\n",
      "val: bce_loss: 0.012559, dice_loss: 0.306200, loss: 0.159379\n",
      "Saving the Best Model\n",
      "0m 3s\n",
      "Epoch 4/24\n",
      "----------\n",
      "LR 0.001\n",
      "train: bce_loss: 0.010982, dice_loss: 0.300418, loss: 0.155700\n",
      "val: bce_loss: 0.008341, dice_loss: 0.307255, loss: 0.157798\n",
      "Saving the Best Model\n",
      "0m 3s\n",
      "Epoch 5/24\n",
      "----------\n",
      "LR 0.001\n",
      "train: bce_loss: 0.009862, dice_loss: 0.287797, loss: 0.148830\n",
      "val: bce_loss: 0.010415, dice_loss: 0.294564, loss: 0.152490\n",
      "Saving the Best Model\n",
      "0m 3s\n",
      "Epoch 6/24\n",
      "----------\n",
      "LR 0.001\n",
      "train: bce_loss: 0.009064, dice_loss: 0.280633, loss: 0.144848\n",
      "val: bce_loss: 0.007850, dice_loss: 0.281194, loss: 0.144522\n",
      "Saving the Best Model\n",
      "0m 3s\n",
      "Epoch 7/24\n",
      "----------\n",
      "LR 0.001\n",
      "train: bce_loss: 0.008318, dice_loss: 0.273565, loss: 0.140942\n",
      "val: bce_loss: 0.007017, dice_loss: 0.283551, loss: 0.145284\n",
      "0m 3s\n",
      "Epoch 8/24\n",
      "----------\n",
      "LR 0.001\n",
      "train: bce_loss: 0.007815, dice_loss: 0.269552, loss: 0.138683\n",
      "val: bce_loss: 0.007522, dice_loss: 0.270320, loss: 0.138921\n",
      "Saving the Best Model\n",
      "0m 3s\n",
      "Epoch 9/24\n",
      "----------\n",
      "LR 0.001\n",
      "train: bce_loss: 0.007163, dice_loss: 0.262713, loss: 0.134938\n",
      "val: bce_loss: 0.006879, dice_loss: 0.264269, loss: 0.135574\n",
      "Saving the Best Model\n",
      "0m 3s\n",
      "Epoch 10/24\n",
      "----------\n",
      "LR 0.001\n",
      "train: bce_loss: 0.006769, dice_loss: 0.259822, loss: 0.133296\n",
      "val: bce_loss: 0.006484, dice_loss: 0.261204, loss: 0.133844\n",
      "Saving the Best Model\n",
      "0m 3s\n",
      "Epoch 11/24\n",
      "----------\n",
      "LR 0.001\n",
      "train: bce_loss: 0.006358, dice_loss: 0.256377, loss: 0.131367\n",
      "val: bce_loss: 0.007080, dice_loss: 0.262157, loss: 0.134619\n",
      "0m 3s\n",
      "Epoch 12/24\n",
      "----------\n",
      "LR 0.001\n",
      "train: bce_loss: 0.005985, dice_loss: 0.253320, loss: 0.129652\n",
      "val: bce_loss: 0.006900, dice_loss: 0.255541, loss: 0.131220\n",
      "Saving the Best Model\n",
      "0m 3s\n",
      "Epoch 13/24\n",
      "----------\n",
      "LR 0.001\n",
      "train: bce_loss: 0.005584, dice_loss: 0.250392, loss: 0.127988\n",
      "val: bce_loss: 0.005359, dice_loss: 0.254391, loss: 0.129875\n",
      "Saving the Best Model\n",
      "0m 3s\n",
      "Epoch 14/24\n",
      "----------\n",
      "LR 0.001\n",
      "train: bce_loss: 0.005277, dice_loss: 0.247577, loss: 0.126427\n",
      "val: bce_loss: 0.005123, dice_loss: 0.250545, loss: 0.127834\n",
      "Saving the Best Model\n",
      "0m 3s\n",
      "Epoch 15/24\n",
      "----------\n",
      "LR 0.0001\n",
      "train: bce_loss: 0.004954, dice_loss: 0.244313, loss: 0.124634\n",
      "val: bce_loss: 0.005339, dice_loss: 0.248947, loss: 0.127143\n",
      "Saving the Best Model\n",
      "0m 3s\n",
      "Epoch 16/24\n",
      "----------\n",
      "LR 0.0001\n",
      "train: bce_loss: 0.004859, dice_loss: 0.243369, loss: 0.124114\n",
      "val: bce_loss: 0.004858, dice_loss: 0.248226, loss: 0.126542\n",
      "Saving the Best Model\n",
      "0m 3s\n",
      "Epoch 17/24\n",
      "----------\n",
      "LR 0.0001\n",
      "train: bce_loss: 0.004796, dice_loss: 0.242933, loss: 0.123864\n",
      "val: bce_loss: 0.004885, dice_loss: 0.248012, loss: 0.126449\n",
      "Saving the Best Model\n",
      "0m 3s\n",
      "Epoch 18/24\n",
      "----------\n",
      "LR 0.0001\n",
      "train: bce_loss: 0.004759, dice_loss: 0.242484, loss: 0.123621\n",
      "val: bce_loss: 0.004807, dice_loss: 0.247943, loss: 0.126375\n",
      "Saving the Best Model\n",
      "0m 3s\n",
      "Epoch 19/24\n",
      "----------\n",
      "LR 0.0001\n",
      "train: bce_loss: 0.004726, dice_loss: 0.242219, loss: 0.123472\n",
      "val: bce_loss: 0.004859, dice_loss: 0.247572, loss: 0.126215\n",
      "Saving the Best Model\n",
      "0m 3s\n",
      "Epoch 20/24\n",
      "----------\n",
      "LR 0.0001\n",
      "train: bce_loss: 0.004677, dice_loss: 0.241680, loss: 0.123178\n",
      "val: bce_loss: 0.004826, dice_loss: 0.247480, loss: 0.126153\n",
      "Saving the Best Model\n",
      "0m 3s\n",
      "Epoch 21/24\n",
      "----------\n",
      "LR 0.0001\n",
      "train: bce_loss: 0.004640, dice_loss: 0.241541, loss: 0.123090\n",
      "val: bce_loss: 0.005127, dice_loss: 0.247435, loss: 0.126281\n",
      "0m 3s\n",
      "Epoch 22/24\n",
      "----------\n",
      "LR 0.0001\n",
      "train: bce_loss: 0.004599, dice_loss: 0.241159, loss: 0.122879\n",
      "val: bce_loss: 0.004986, dice_loss: 0.246739, loss: 0.125862\n",
      "Saving the Best Model\n",
      "0m 3s\n",
      "Epoch 23/24\n",
      "----------\n",
      "LR 0.0001\n",
      "train: bce_loss: 0.004572, dice_loss: 0.240823, loss: 0.122698\n",
      "val: bce_loss: 0.004636, dice_loss: 0.246722, loss: 0.125679\n",
      "Saving the Best Model\n",
      "0m 3s\n",
      "Epoch 24/24\n",
      "----------\n",
      "LR 0.0001\n",
      "train: bce_loss: 0.004524, dice_loss: 0.240474, loss: 0.122499\n",
      "val: bce_loss: 0.004820, dice_loss: 0.246680, loss: 0.125750\n",
      "0m 3s\n",
      "Best val loss: 0.125679\n"
     ]
    }
   ],
   "source": [
    "fcn = train_model(fcn, dataloaders, optimizer_ft, exp_lr_scheduler, device, bce_weight, num_epochs=25)"
   ]
  },
  {
   "cell_type": "markdown",
   "metadata": {},
   "source": [
    "### Visualizing the Results"
   ]
  },
  {
   "cell_type": "code",
   "execution_count": 16,
   "metadata": {},
   "outputs": [
    {
     "name": "stdout",
     "output_type": "stream",
     "text": [
      "(3, 5, 128, 128)\n"
     ]
    },
    {
     "data": {
      "image/png": "[encoded data removed]",
      "text/plain": [
       "<Figure size 864x864 with 9 Axes>"
      ]
     },
     "metadata": {
      "needs_background": "light"
     },
     "output_type": "display_data"
    }
   ],
   "source": [
    "# prediction\n",
    "\n",
    "import math\n",
    "\n",
    "fcn.eval()   # Set model to evaluate mode\n",
    "\n",
    "test_dataset = SimDataset(3, transform = transform)\n",
    "test_loader = DataLoader(test_dataset, batch_size=3, shuffle=False, num_workers=0)\n",
    "        \n",
    "inputs, labels = next(iter(test_loader))\n",
    "inputs = inputs.to(device)\n",
    "labels = labels.to(device)\n",
    "\n",
    "pred = fcn(inputs)\n",
    "\n",
    "pred = pred.data.cpu().numpy()\n",
    "print(pred.shape)\n",
    "\n",
    "# Change channel-order and make 3 channels for matplot\n",
    "input_images_rgb = [reverse_transform(x) for x in inputs.cpu()]\n",
    "\n",
    "# Map each channel (i.e. class) to each color\n",
    "target_masks_rgb = [utils.masks_to_colorimg(x) for x in labels.cpu().numpy()]\n",
    "pred_rgb = [utils.masks_to_colorimg(x) for x in pred]\n",
    "\n",
    "utils.plot_side_by_side([input_images_rgb, target_masks_rgb, pred_rgb])"
   ]
  },
  {
   "cell_type": "markdown",
   "metadata": {},
   "source": [
    "# Train UNet"
   ]
  },
  {
   "cell_type": "code",
   "execution_count": 17,
   "metadata": {},
   "outputs": [],
   "source": [
    "def double_conv(in_channels, out_channels):\n",
    "    return nn.Sequential(\n",
    "        nn.Conv2d(in_channels, out_channels, 3, padding=1),\n",
    "        nn.ReLU(inplace=True),\n",
    "        nn.Conv2d(out_channels, out_channels, 3, padding=1),\n",
    "        nn.ReLU(inplace=True)\n",
    "    )"
   ]
  },
  {
   "cell_type": "code",
   "execution_count": 18,
   "metadata": {},
   "outputs": [],
   "source": [
    "class Fusion2(nn.Module):\n",
    "    def __init__(self, upper_channel_size: int, lower_channel_size: int):\n",
    "        super().__init__()\n",
    "        self.upsample = nn.Upsample(scale_factor=2, mode='bilinear', align_corners=True)\n",
    "        self.dconv_up = double_conv(upper_channel_size + lower_channel_size, lower_channel_size)\n",
    "\n",
    "    def forward(self, upper_feature_map: torch.Tensor, lower_feature_map: torch.Tensor) -> torch.Tensor:\n",
    "        x = self.upsample(upper_feature_map)  \n",
    "        x = torch.cat([x, lower_feature_map], dim=1)  \n",
    "        x = self.dconv_up(x)  \n",
    "        return x"
   ]
  },
  {
   "cell_type": "code",
   "execution_count": 19,
   "metadata": {},
   "outputs": [
    {
     "data": {
      "application/unittest.status+json": {
       "color": "yellow",
       "message": "",
       "previous": 0
      },
      "text/plain": []
     },
     "metadata": {},
     "output_type": "display_data"
    },
    {
     "data": {
      "application/unittest.status+json": {
       "color": "lightgreen",
       "message": ".\n----------------------------------------------------------------------\nRan 1 test in 0.162s\n\nOK\n",
       "previous": 0
      },
      "text/plain": [
       "Success"
      ]
     },
     "metadata": {},
     "output_type": "display_data"
    },
    {
     "name": "stdout",
     "output_type": "stream",
     "text": [
      ".\n",
      "----------------------------------------------------------------------\n",
      "Ran 1 test in 0.162s\n",
      "\n",
      "OK\n"
     ]
    },
    {
     "data": {
      "text/plain": [
       "<unittest.runner.TextTestResult run=1 errors=0 failures=0>"
      ]
     },
     "execution_count": 19,
     "metadata": {},
     "output_type": "execute_result"
    }
   ],
   "source": [
    "%%unittest_main\n",
    "\n",
    "\n",
    "class TestFusion2(unittest.TestCase):\n",
    "    def setUp(self):\n",
    "        self.batch_size = 5\n",
    "        self.upper_feature_size = 32\n",
    "        self.lower_feature_size = 64\n",
    "        self.epsilon = 1e-4\n",
    "    \n",
    "    def test_fused_feature_size_should_be_equal_to_lower_feature_map_size(self):\n",
    "        upper_feature_channel_size = 256\n",
    "        lower_feature_channel_size = 128\n",
    "\n",
    "        upper_features = torch.randn(self.batch_size, upper_feature_channel_size, self.upper_feature_size, self.upper_feature_size)\n",
    "        lower_features = torch.randn(self.batch_size, lower_feature_channel_size, self.lower_feature_size, self.lower_feature_size)\n",
    "        \n",
    "        fusion = Fusion2(upper_feature_channel_size, lower_feature_channel_size)\n",
    "        fused_features = fusion(upper_features, lower_features)\n",
    "        self.assertTupleEqual(lower_features.size(), fused_features.size())"
   ]
  },
  {
   "cell_type": "code",
   "execution_count": 20,
   "metadata": {},
   "outputs": [],
   "source": [
    "import torch\n",
    "import torch.nn as nn\n",
    "\n",
    "\n",
    "class UNet(nn.Module):\n",
    "\n",
    "    def __init__(self, n_class):\n",
    "        super().__init__()\n",
    "\n",
    "        self.dconv_down1 = double_conv(3, 64)\n",
    "        self.dconv_down2 = double_conv(64, 128)\n",
    "        self.dconv_down3 = double_conv(128, 256)\n",
    "        self.dconv_down4 = double_conv(256, 512)\n",
    "\n",
    "        self.maxpool = nn.MaxPool2d(2)\n",
    "        \n",
    "        self.fuse_up3 = Fusion2(512, 256)\n",
    "        self.fuse_up2 = Fusion2(256, 128)\n",
    "        self.fuse_up1 = Fusion2(128, 64)\n",
    "\n",
    "        self.conv_last = nn.Conv2d(64, n_class, 1)\n",
    "\n",
    "    def forward(self, x):\n",
    "        conv1 = self.dconv_down1(x) # size=(N, 64, x.H, x.W)\n",
    "        x = self.maxpool(conv1)  # size=(N, 64, x.H/2, x.W/2)\n",
    "\n",
    "        conv2 = self.dconv_down2(x)  # size=(N, 128, x.H/2, x.W/2)\n",
    "        x = self.maxpool(conv2)  # size=(N, 128, x.H/4, x.W/4)\n",
    "\n",
    "        conv3 = self.dconv_down3(x)  # size=(N, 256, x.H/4, x.W/4)\n",
    "        x = self.maxpool(conv3)  # size=(N, 256, x.H/8, x.W/8)\n",
    "\n",
    "        conv4 = self.dconv_down4(x)  # size=(N, 512, x.H/8, x.W/8)\n",
    "        \n",
    "        x = self.fuse_up3(conv4, conv3)  # size=(N, 256, x.H/4, x.W/4)\n",
    "        x = self.fuse_up2(x, conv2)  # size=(N, 128, x.H/2, x.W/2)\n",
    "        x = self.fuse_up1(x, conv1)  # size=(N, 64, x.H, x.W)\n",
    "        \n",
    "        out = self.conv_last(x)  # size=(N, n_class, x.H, x.W)\n",
    "        return out"
   ]
  },
  {
   "cell_type": "code",
   "execution_count": 21,
   "metadata": {},
   "outputs": [
    {
     "data": {
      "application/unittest.status+json": {
       "color": "yellow",
       "message": "",
       "previous": 0
      },
      "text/plain": []
     },
     "metadata": {},
     "output_type": "display_data"
    },
    {
     "data": {
      "application/unittest.status+json": {
       "color": "lightgreen",
       "message": "..\n----------------------------------------------------------------------\nRan 2 tests in 0.464s\n\nOK\n",
       "previous": 0
      },
      "text/plain": [
       "Success"
      ]
     },
     "metadata": {},
     "output_type": "display_data"
    },
    {
     "name": "stdout",
     "output_type": "stream",
     "text": [
      "..\n",
      "----------------------------------------------------------------------\n",
      "Ran 2 tests in 0.464s\n",
      "\n",
      "OK\n"
     ]
    },
    {
     "data": {
      "text/plain": [
       "<unittest.runner.TextTestResult run=2 errors=0 failures=0>"
      ]
     },
     "execution_count": 21,
     "metadata": {},
     "output_type": "execute_result"
    }
   ],
   "source": [
    "%%unittest_main\n",
    "\n",
    "\n",
    "class TestUNet(unittest.TestCase):\n",
    "    def test_unet_output_size1(self):\n",
    "        batch_size = 3\n",
    "        num_channel, image_H, image_W = 3, 128, 128\n",
    "        n_class = 5\n",
    "        \n",
    "        inputs = torch.randn(batch_size, num_channel, image_H, image_W)\n",
    "        model = UNet(n_class=n_class)\n",
    "        outputs = model(inputs)\n",
    "        self.assertTupleEqual((batch_size, n_class, image_H, image_W), outputs.size())\n",
    "        \n",
    "    def test_unet_output_size2(self):\n",
    "        batch_size = 5\n",
    "        num_channel, image_H, image_W = 3, 64, 64\n",
    "        n_class = 12\n",
    "        \n",
    "        inputs = torch.randn(batch_size, num_channel, image_H, image_W)\n",
    "        model = UNet(n_class=n_class)\n",
    "        outputs = model(inputs)\n",
    "        self.assertTupleEqual((batch_size, n_class, image_H, image_W), outputs.size()) "
   ]
  },
  {
   "cell_type": "markdown",
   "metadata": {},
   "source": [
    "### Create Model, Optimizer, Learning Rate Scheduler"
   ]
  },
  {
   "cell_type": "code",
   "execution_count": 22,
   "metadata": {},
   "outputs": [],
   "source": [
    "unet = UNet(n_class=n_class)\n",
    "\n",
    "optimizer_ft = optim.Adam(unet.parameters(), lr=1e-3)\n",
    "\n",
    "exp_lr_scheduler = lr_scheduler.StepLR(optimizer_ft, step_size=15, gamma=0.1)"
   ]
  },
  {
   "cell_type": "code",
   "execution_count": 23,
   "metadata": {},
   "outputs": [
    {
     "name": "stdout",
     "output_type": "stream",
     "text": [
      "Epoch 0/24\n",
      "----------\n",
      "LR 0.001\n",
      "train: bce_loss: 0.096735, dice_loss: 0.915745, loss: 0.506240\n",
      "val: bce_loss: 0.028575, dice_loss: 0.750414, loss: 0.389495\n",
      "Saving the Best Model\n",
      "0m 12s\n",
      "Epoch 1/24\n",
      "----------\n",
      "LR 0.001\n",
      "train: bce_loss: 0.023141, dice_loss: 0.550186, loss: 0.286664\n",
      "val: bce_loss: 0.011911, dice_loss: 0.325293, loss: 0.168602\n",
      "Saving the Best Model\n",
      "0m 12s\n",
      "Epoch 2/24\n",
      "----------\n",
      "LR 0.001\n",
      "train: bce_loss: 0.010137, dice_loss: 0.278873, loss: 0.144505\n",
      "val: bce_loss: 0.005891, dice_loss: 0.253194, loss: 0.129543\n",
      "Saving the Best Model\n",
      "0m 12s\n",
      "Epoch 3/24\n",
      "----------\n",
      "LR 0.001\n",
      "train: bce_loss: 0.004578, dice_loss: 0.242784, loss: 0.123681\n",
      "val: bce_loss: 0.003640, dice_loss: 0.237571, loss: 0.120605\n",
      "Saving the Best Model\n",
      "0m 12s\n",
      "Epoch 4/24\n",
      "----------\n",
      "LR 0.001\n",
      "train: bce_loss: 0.003335, dice_loss: 0.233380, loss: 0.118357\n",
      "val: bce_loss: 0.002817, dice_loss: 0.231685, loss: 0.117251\n",
      "Saving the Best Model\n",
      "0m 12s\n",
      "Epoch 5/24\n",
      "----------\n",
      "LR 0.001\n",
      "train: bce_loss: 0.002787, dice_loss: 0.229419, loss: 0.116103\n",
      "val: bce_loss: 0.002291, dice_loss: 0.227400, loss: 0.114846\n",
      "Saving the Best Model\n",
      "0m 12s\n",
      "Epoch 6/24\n",
      "----------\n",
      "LR 0.001\n",
      "train: bce_loss: 0.002193, dice_loss: 0.224617, loss: 0.113405\n",
      "val: bce_loss: 0.001969, dice_loss: 0.226943, loss: 0.114456\n",
      "Saving the Best Model\n",
      "0m 12s\n",
      "Epoch 7/24\n",
      "----------\n",
      "LR 0.001\n",
      "train: bce_loss: 0.002279, dice_loss: 0.225461, loss: 0.113870\n",
      "val: bce_loss: 0.001650, dice_loss: 0.222684, loss: 0.112167\n",
      "Saving the Best Model\n",
      "0m 12s\n",
      "Epoch 8/24\n",
      "----------\n",
      "LR 0.001\n",
      "train: bce_loss: 0.001766, dice_loss: 0.220900, loss: 0.111333\n",
      "val: bce_loss: 0.001550, dice_loss: 0.221338, loss: 0.111444\n",
      "Saving the Best Model\n",
      "0m 12s\n",
      "Epoch 9/24\n",
      "----------\n",
      "LR 0.001\n",
      "train: bce_loss: 0.001675, dice_loss: 0.220052, loss: 0.110863\n",
      "val: bce_loss: 0.001582, dice_loss: 0.219705, loss: 0.110644\n",
      "Saving the Best Model\n",
      "0m 12s\n",
      "Epoch 10/24\n",
      "----------\n",
      "LR 0.001\n",
      "train: bce_loss: 0.001634, dice_loss: 0.219892, loss: 0.110763\n",
      "val: bce_loss: 0.001682, dice_loss: 0.221181, loss: 0.111432\n",
      "0m 12s\n",
      "Epoch 11/24\n",
      "----------\n",
      "LR 0.001\n",
      "train: bce_loss: 0.001503, dice_loss: 0.217973, loss: 0.109738\n",
      "val: bce_loss: 0.001582, dice_loss: 0.219035, loss: 0.110308\n",
      "Saving the Best Model\n",
      "0m 12s\n",
      "Epoch 12/24\n",
      "----------\n",
      "LR 0.001\n",
      "train: bce_loss: 0.001412, dice_loss: 0.217335, loss: 0.109373\n",
      "val: bce_loss: 0.001449, dice_loss: 0.217632, loss: 0.109541\n",
      "Saving the Best Model\n",
      "0m 12s\n",
      "Epoch 13/24\n",
      "----------\n",
      "LR 0.001\n",
      "train: bce_loss: 0.001341, dice_loss: 0.216742, loss: 0.109042\n",
      "val: bce_loss: 0.001501, dice_loss: 0.219576, loss: 0.110539\n",
      "0m 12s\n",
      "Epoch 14/24\n",
      "----------\n",
      "LR 0.001\n",
      "train: bce_loss: 0.001326, dice_loss: 0.215921, loss: 0.108623\n",
      "val: bce_loss: 0.001360, dice_loss: 0.218458, loss: 0.109909\n",
      "0m 12s\n",
      "Epoch 15/24\n",
      "----------\n",
      "LR 0.0001\n",
      "train: bce_loss: 0.001180, dice_loss: 0.214146, loss: 0.107663\n",
      "val: bce_loss: 0.001195, dice_loss: 0.216040, loss: 0.108618\n",
      "Saving the Best Model\n",
      "0m 12s\n",
      "Epoch 16/24\n",
      "----------\n",
      "LR 0.0001\n",
      "train: bce_loss: 0.001111, dice_loss: 0.213150, loss: 0.107130\n",
      "val: bce_loss: 0.001192, dice_loss: 0.215790, loss: 0.108491\n",
      "Saving the Best Model\n",
      "0m 12s\n",
      "Epoch 17/24\n",
      "----------\n",
      "LR 0.0001\n",
      "train: bce_loss: 0.001088, dice_loss: 0.212788, loss: 0.106938\n",
      "val: bce_loss: 0.001146, dice_loss: 0.215537, loss: 0.108341\n",
      "Saving the Best Model\n",
      "0m 12s\n",
      "Epoch 18/24\n",
      "----------\n",
      "LR 0.0001\n",
      "train: bce_loss: 0.001081, dice_loss: 0.212556, loss: 0.106818\n",
      "val: bce_loss: 0.001154, dice_loss: 0.215247, loss: 0.108201\n",
      "Saving the Best Model\n",
      "0m 12s\n",
      "Epoch 19/24\n",
      "----------\n",
      "LR 0.0001\n",
      "train: bce_loss: 0.001074, dice_loss: 0.212318, loss: 0.106696\n",
      "val: bce_loss: 0.001122, dice_loss: 0.214917, loss: 0.108019\n",
      "Saving the Best Model\n",
      "0m 12s\n",
      "Epoch 20/24\n",
      "----------\n",
      "LR 0.0001\n",
      "train: bce_loss: 0.001058, dice_loss: 0.212095, loss: 0.106576\n",
      "val: bce_loss: 0.001124, dice_loss: 0.214845, loss: 0.107985\n",
      "Saving the Best Model\n",
      "0m 12s\n",
      "Epoch 21/24\n",
      "----------\n",
      "LR 0.0001\n",
      "train: bce_loss: 0.001057, dice_loss: 0.211932, loss: 0.106494\n",
      "val: bce_loss: 0.001245, dice_loss: 0.215305, loss: 0.108275\n",
      "0m 12s\n",
      "Epoch 22/24\n",
      "----------\n",
      "LR 0.0001\n",
      "train: bce_loss: 0.001051, dice_loss: 0.211671, loss: 0.106361\n",
      "val: bce_loss: 0.001180, dice_loss: 0.214909, loss: 0.108045\n",
      "0m 12s\n",
      "Epoch 23/24\n",
      "----------\n",
      "LR 0.0001\n",
      "train: bce_loss: 0.001046, dice_loss: 0.211438, loss: 0.106242\n",
      "val: bce_loss: 0.001112, dice_loss: 0.214553, loss: 0.107833\n",
      "Saving the Best Model\n",
      "0m 12s\n",
      "Epoch 24/24\n",
      "----------\n",
      "LR 0.0001\n",
      "train: bce_loss: 0.001032, dice_loss: 0.211209, loss: 0.106121\n",
      "val: bce_loss: 0.001143, dice_loss: 0.214493, loss: 0.107818\n",
      "Saving the Best Model\n",
      "0m 12s\n",
      "Best val loss: 0.107818\n"
     ]
    }
   ],
   "source": [
    "unet = train_model(unet, dataloaders, optimizer_ft, exp_lr_scheduler, device, bce_weight, num_epochs=25)"
   ]
  },
  {
   "cell_type": "markdown",
   "metadata": {},
   "source": [
    "### Visualizing the Results"
   ]
  },
  {
   "cell_type": "code",
   "execution_count": 24,
   "metadata": {},
   "outputs": [
    {
     "name": "stdout",
     "output_type": "stream",
     "text": [
      "(3, 5, 128, 128)\n"
     ]
    },
    {
     "data": {
      "image/png": "[encoded data removed]",
      "text/plain": [
       "<Figure size 864x864 with 9 Axes>"
      ]
     },
     "metadata": {
      "needs_background": "light"
     },
     "output_type": "display_data"
    }
   ],
   "source": [
    "# prediction\n",
    "\n",
    "import math\n",
    "\n",
    "unet.eval()   # Set model to evaluate mode\n",
    "\n",
    "test_dataset = SimDataset(3, transform = transform)\n",
    "test_loader = DataLoader(test_dataset, batch_size=3, shuffle=False, num_workers=0)\n",
    "        \n",
    "inputs, labels = next(iter(test_loader))\n",
    "inputs = inputs.to(device)\n",
    "labels = labels.to(device)\n",
    "\n",
    "pred = unet(inputs)\n",
    "\n",
    "pred = pred.data.cpu().numpy()\n",
    "print(pred.shape)\n",
    "\n",
    "# Change channel-order and make 3 channels for matplot\n",
    "input_images_rgb = [reverse_transform(x) for x in inputs.cpu()]\n",
    "\n",
    "# Map each channel (i.e. class) to each color\n",
    "target_masks_rgb = [utils.masks_to_colorimg(x) for x in labels.cpu().numpy()]\n",
    "pred_rgb = [utils.masks_to_colorimg(x) for x in pred]\n",
    "\n",
    "utils.plot_side_by_side([input_images_rgb, target_masks_rgb, pred_rgb])"
   ]
  }
 ],
 "metadata": {
  "kernelspec": {
   "display_name": "Python 3.7.9 ('pytorch')",
   "language": "python",
   "name": "python3"
  },
  "language_info": {
   "codemirror_mode": {
    "name": "ipython",
    "version": 3
   },
   "file_extension": ".py",
   "mimetype": "text/x-python",
   "name": "python",
   "nbconvert_exporter": "python",
   "pygments_lexer": "ipython3",
   "version": "3.7.9"
  },
  "vscode": {
   "interpreter": {
    "hash": "64beb3e9c7ef7a368aa59d47222766f35362b7079f3b89423ed0ed8a01dc4b39"
   }
  }
 },
 "nbformat": 4,
 "nbformat_minor": 4
}
