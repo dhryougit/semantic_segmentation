{
 "cells": [
  {
   "cell_type": "markdown",
   "metadata": {},
   "source": [
    "# Semantic Segmentation Practice"
   ]
  },
  {
   "cell_type": "code",
   "execution_count": 1,
   "metadata": {},
   "outputs": [],
   "source": [
    "%matplotlib inline\n",
    "%load_ext autoreload\n",
    "%autoreload 2\n",
    "%load_ext ipython_unittest\n",
    "\n",
    "import os, sys\n",
    "import matplotlib.pyplot as plt\n",
    "import unittest\n",
    "import numpy as np\n",
    "import utils\n",
    "import torch\n",
    "import torch.nn.functional as F"
   ]
  },
  {
   "cell_type": "markdown",
   "metadata": {},
   "source": [
    "## Dataset\n",
    "\n",
    "<img src='./resources/simdata.png' width='40%' align='left'/>"
   ]
  },
  {
   "cell_type": "markdown",
   "metadata": {},
   "source": [
    "### Create Datasets"
   ]
  },
  {
   "cell_type": "code",
   "execution_count": 2,
   "metadata": {},
   "outputs": [],
   "source": [
    "from datasets.simulation import SimDataset\n",
    "from torch.utils.data import Dataset, DataLoader\n",
    "from torchvision import transforms, datasets, models\n",
    "\n",
    "transform = transforms.Compose([\n",
    "    transforms.ToTensor(),\n",
    "])\n",
    "\n",
    "train_set = SimDataset(2000, transform=transform)\n",
    "val_set = SimDataset(200, transform=transform)\n",
    "\n",
    "image_datasets = {\n",
    "    'train': train_set, \n",
    "    'val': val_set\n",
    "}"
   ]
  },
  {
   "cell_type": "markdown",
   "metadata": {},
   "source": [
    "### Explore SimDataset"
   ]
  },
  {
   "cell_type": "code",
   "execution_count": 3,
   "metadata": {},
   "outputs": [
    {
     "name": "stdout",
     "output_type": "stream",
     "text": [
      "Image Size: torch.Size([3, 128, 128])\n",
      "Mask Size: (5, 128, 128)\n",
      "Number of Classes: 5\n"
     ]
    }
   ],
   "source": [
    "image, mask = train_set[0]\n",
    "print(\"Image Size: {}\".format(image.size()))\n",
    "print(\"Mask Size: {}\".format(mask.shape))\n",
    "print(\"Number of Classes: {}\".format(mask.shape[0]))"
   ]
  },
  {
   "cell_type": "code",
   "execution_count": 4,
   "metadata": {},
   "outputs": [
    {
     "data": {
      "image/png": "[encoded data removed]",
      "text/plain": [
       "<Figure size 576x864 with 6 Axes>"
      ]
     },
     "metadata": {
      "needs_background": "light"
     },
     "output_type": "display_data"
    }
   ],
   "source": [
    "num_to_show = 3\n",
    "input_images, target_masks = zip(*[train_set.get_raw_item(i) for i in range(num_to_show)])\n",
    "\n",
    "# Change channel-order and make 3 channels for matplot\n",
    "input_images_rgb = [x.astype(np.uint8) for x in input_images]\n",
    "\n",
    "# Map each channel (i.e. class) to each color\n",
    "target_masks_rgb = [utils.masks_to_colorimg(x) for x in target_masks]\n",
    "\n",
    "# Left: Input image, Right: Target mask (Ground-truth)\n",
    "utils.plot_side_by_side([input_images_rgb, target_masks_rgb])"
   ]
  },
  {
   "cell_type": "markdown",
   "metadata": {},
   "source": [
    "# Loss"
   ]
  },
  {
   "cell_type": "markdown",
   "metadata": {},
   "source": [
    "### Let's Implement Dice Loss"
   ]
  },
  {
   "cell_type": "markdown",
   "metadata": {},
   "source": [
    "<img src='./resources/dice.png' width='40%' align='left'/>"
   ]
  },
  {
   "cell_type": "code",
   "execution_count": 12,
   "metadata": {},
   "outputs": [
    {
     "ename": "SyntaxError",
     "evalue": "invalid syntax (<ipython-input-12-8b9d05f576d7>, line 9)",
     "output_type": "error",
     "traceback": [
      "\u001b[0;36m  File \u001b[0;32m\"<ipython-input-12-8b9d05f576d7>\"\u001b[0;36m, line \u001b[0;32m9\u001b[0m\n\u001b[0;31m    intersection = ?\u001b[0m\n\u001b[0m                   ^\u001b[0m\n\u001b[0;31mSyntaxError\u001b[0m\u001b[0;31m:\u001b[0m invalid syntax\n"
     ]
    }
   ],
   "source": [
    "def dice_loss_with_logits2(logits: torch.Tensor, target: torch.Tensor, smooth=1.):\n",
    "    \"\"\"\n",
    "    logits' size = (batch_size, num_class, H, W)\n",
    "    targets' size = (batch_size, num_class, H, W)\n",
    "    \"\"\"\n",
    "    pred = torch.softmax(logits, dim=1)\n",
    "    target = target.contiguous()\n",
    "\n",
    "    intersection = ?\n",
    "\n",
    "    loss = ?\n",
    "\n",
    "    return loss.mean()"
   ]
  },
  {
   "cell_type": "code",
   "execution_count": 13,
   "metadata": {},
   "outputs": [
    {
     "data": {
      "application/unittest.status+json": {
       "color": "yellow",
       "message": "",
       "previous": 0
      },
      "text/plain": []
     },
     "metadata": {},
     "output_type": "display_data"
    },
    {
     "data": {
      "application/unittest.status+json": {
       "color": "lightgreen",
       "message": ".\n----------------------------------------------------------------------\nRan 1 test in 0.002s\n\nOK\n",
       "previous": 0
      },
      "text/plain": [
       "Success"
      ]
     },
     "metadata": {},
     "output_type": "display_data"
    },
    {
     "name": "stdout",
     "output_type": "stream",
     "text": [
      ".\n",
      "----------------------------------------------------------------------\n",
      "Ran 1 test in 0.002s\n",
      "\n",
      "OK\n"
     ]
    },
    {
     "data": {
      "text/plain": [
       "<unittest.runner.TextTestResult run=1 errors=0 failures=0>"
      ]
     },
     "execution_count": 13,
     "metadata": {},
     "output_type": "execute_result"
    }
   ],
   "source": [
    "%%unittest_main\n",
    "import numpy as np\n",
    "from losses import dice_loss_with_logits\n",
    "\n",
    "\n",
    "def create_random_targets(*shape):\n",
    "    batch_size, num_class, H, W = shape\n",
    "    eye = torch.eye(num_class)\n",
    "    return eye[np.random.choice(num_class, batch_size * H * W)].view(batch_size, num_class, H, W)\n",
    "    \n",
    "def is_almost_equel(tens_a, tens_b, delta=1e-5):\n",
    "    return torch.all(torch.lt(torch.abs(torch.add(tens_a, -tens_b)), delta))\n",
    "\n",
    "class TestDiceLoss(unittest.TestCase):\n",
    "    def setUp(self):\n",
    "        self.batch_size = 3\n",
    "        self.num_class = 5\n",
    "        self.image_size = (10, 10)\n",
    "        \n",
    "    def test_dice_loss(self):\n",
    "        logits = torch.randn(self.batch_size, self.num_class, *self.image_size)\n",
    "        targets = create_random_targets(self.batch_size, self.num_class, *self.image_size)\n",
    "        \n",
    "        self.assertTrue(is_almost_equel(dice_loss_with_logits(logits, targets), dice_loss_with_logits2(logits, targets)))"
   ]
  },
  {
   "cell_type": "markdown",
   "metadata": {},
   "source": [
    "# Model: FCN 4s"
   ]
  },
  {
   "cell_type": "markdown",
   "metadata": {},
   "source": [
    "### Fusion : Matching Channel Size + Addition"
   ]
  },
  {
   "cell_type": "code",
   "execution_count": 126,
   "metadata": {},
   "outputs": [],
   "source": [
    "import torch.nn as nn\n",
    "from torchvision import models\n",
    "\n",
    "\n",
    "class Fusion(nn.Module):\n",
    "    def __init__(self, upper_channel_size: int, lower_channel_size: int):\n",
    "        super().__init__()\n",
    "        self.conv = nn.Conv2d(upper_channel_size, lower_channel_size, kernel_size=1)\n",
    "        self.relu = nn.ReLU()\n",
    "\n",
    "    def forward(self, upper_feature_map: torch.Tensor, lower_feature_map: torch.Tensor) -> torch.Tensor:\n",
    "        raise NotImplementedError"
   ]
  },
  {
   "cell_type": "code",
   "execution_count": 63,
   "metadata": {},
   "outputs": [
    {
     "data": {
      "application/unittest.status+json": {
       "color": "yellow",
       "message": "",
       "previous": 0
      },
      "text/plain": []
     },
     "metadata": {},
     "output_type": "display_data"
    },
    {
     "data": {
      "application/unittest.status+json": {
       "color": "lightgreen",
       "message": "..\n----------------------------------------------------------------------\nRan 2 tests in 0.024s\n\nOK\n",
       "previous": 0
      },
      "text/plain": [
       "Success"
      ]
     },
     "metadata": {},
     "output_type": "display_data"
    },
    {
     "name": "stdout",
     "output_type": "stream",
     "text": [
      "..\n",
      "----------------------------------------------------------------------\n",
      "Ran 2 tests in 0.024s\n",
      "\n",
      "OK\n"
     ]
    },
    {
     "data": {
      "text/plain": [
       "<unittest.runner.TextTestResult run=2 errors=0 failures=0>"
      ]
     },
     "execution_count": 63,
     "metadata": {},
     "output_type": "execute_result"
    }
   ],
   "source": [
    "%%unittest_main\n",
    "\n",
    "\n",
    "class TestFusion(unittest.TestCase):\n",
    "    def setUp(self):\n",
    "        self.batch_size = 5\n",
    "        self.feature_height = 32\n",
    "        self.feature_width = 32\n",
    "        self.epsilon = 1e-4\n",
    "    \n",
    "    def test_fused_feature_size_should_be_equal_to_lower_feature_map_size(self):\n",
    "        upper_feature_channel_size = 64\n",
    "        lower_feature_channel_size = 32\n",
    "\n",
    "        upper_features = torch.randn(self.batch_size, upper_feature_channel_size, self.feature_height, self.feature_width)\n",
    "        lower_features = torch.randn(self.batch_size, lower_feature_channel_size, self.feature_height, self.feature_width)\n",
    "        \n",
    "        fusion = Fusion(upper_feature_channel_size, lower_feature_channel_size)\n",
    "        fused_features = fusion(upper_features, lower_features)\n",
    "        self.assertTupleEqual(lower_features.size(), fused_features.size())\n",
    "        \n",
    "    def test_fused_feature_values(self):\n",
    "        upper_feature_channel_size = 128\n",
    "        lower_feature_channel_size = 64\n",
    "\n",
    "        upper_features = torch.randn(self.batch_size, upper_feature_channel_size, self.feature_height, self.feature_width)\n",
    "        lower_features = torch.randn(self.batch_size, lower_feature_channel_size, self.feature_height, self.feature_width)\n",
    "        \n",
    "        fusion = Fusion(upper_feature_channel_size, lower_feature_channel_size)\n",
    "        fused_features = fusion(upper_features, lower_features)\n",
    "        self.assertTupleEqual(lower_features.size(), fused_features.size())\n",
    "        self.assertEqual(lower_features.numel(), \n",
    "                         torch.sum(fused_features + self.epsilon > fusion.conv(upper_features) + lower_features))   "
   ]
  },
  {
   "cell_type": "markdown",
   "metadata": {},
   "source": [
    "### Coding the FCN 4s"
   ]
  },
  {
   "cell_type": "code",
   "execution_count": 54,
   "metadata": {},
   "outputs": [],
   "source": [
    "class FCN4s(nn.Module):\n",
    "\n",
    "    def __init__(self, n_class, fusion_cls=Fusion):\n",
    "        super().__init__()\n",
    "\n",
    "        self.base_model = models.resnet18(pretrained=True)\n",
    "\n",
    "        layers = list(self.base_model.children())\n",
    "        self.layer1 = nn.Sequential(*layers[:5])  # size=(N, 64, x.H/4, x.W/4)\n",
    "        self.layer2 = layers[5]  # size=(N, 128, x.H/8, x.W/8)\n",
    "        self.layer3 = layers[6]  # size=(N, 256, x.H/16, x.W/16)\n",
    "        self.layer4 = layers[7]  # size=(N, 512, x.H/32, x.W/32)\n",
    "\n",
    "        self.upsample = nn.Upsample(scale_factor=2, mode='bilinear', align_corners=False)\n",
    "\n",
    "        self.fuse_fm4_and_fm3 = fusion_cls(512, 256)\n",
    "        self.fuse_fm3_and_fm2 = fusion_cls(256, 128)\n",
    "        self.fuse_fm2_and_fm1 = fusion_cls(128, 64)\n",
    "\n",
    "        self.conv1k = nn.Conv2d(64, n_class, 1)\n",
    "\n",
    "    def forward(self, x):\n",
    "        fm1 = self.layer1(x)  # size=(N, 64, x.H/4, x.W/4)\n",
    "        fm2 = self.layer2(fm1)  # size=(N, 128, x.H/8, x.W/8)\n",
    "        fm3 = self.layer3(fm2)  # size=(N, 256, x.H/16, x.W/16)\n",
    "        fm4 = self.layer4(fm3)  # size=(N, 512, x.H/32, x.W/32)\n",
    "\n",
    "        up4 = ?  # size=(N, 512, x.H/16, x.W/16)\n",
    "        fs43 = ?  # size=(N, 256, x.H/16, x.W/16)\n",
    "\n",
    "        up3 = ?  # size=(N, 256, x.H/8, x.W/8)\n",
    "        fs32 = ?  # size=(N, 128, x.H/8, x.W/8)\n",
    "\n",
    "        up2 = ?  # size=(N, 128, x.H/4, x.W/4)\n",
    "        fs21 = ?  # size=(N, 64, x.H/4, x.W/4)\n",
    "\n",
    "        up1 = ?  # size=(N, 64, x.H/2, x.W/2)\n",
    "        up1 = ?  # size=(N, 64, x.H, x.W)\n",
    "        return self.conv1k(up1)  # size=(N, n_classes, x.H, x.W)\n"
   ]
  },
  {
   "cell_type": "code",
   "execution_count": 64,
   "metadata": {},
   "outputs": [
    {
     "data": {
      "application/unittest.status+json": {
       "color": "yellow",
       "message": "",
       "previous": 0
      },
      "text/plain": []
     },
     "metadata": {},
     "output_type": "display_data"
    },
    {
     "data": {
      "application/unittest.status+json": {
       "color": "lightgreen",
       "message": "..\n----------------------------------------------------------------------\nRan 2 tests in 0.707s\n\nOK\n",
       "previous": 0
      },
      "text/plain": [
       "Success"
      ]
     },
     "metadata": {},
     "output_type": "display_data"
    },
    {
     "name": "stdout",
     "output_type": "stream",
     "text": [
      "..\n",
      "----------------------------------------------------------------------\n",
      "Ran 2 tests in 0.707s\n",
      "\n",
      "OK\n"
     ]
    },
    {
     "data": {
      "text/plain": [
       "<unittest.runner.TextTestResult run=2 errors=0 failures=0>"
      ]
     },
     "execution_count": 64,
     "metadata": {},
     "output_type": "execute_result"
    }
   ],
   "source": [
    "%%unittest_main\n",
    "\n",
    "\n",
    "class TestFCN4s(unittest.TestCase):\n",
    "    def test_fcn4s_output_size1(self):\n",
    "        batch_size = 3\n",
    "        num_channel, image_H, image_W = 3, 128, 128\n",
    "        n_class = 5\n",
    "        \n",
    "        inputs = torch.randn(batch_size, num_channel, image_H, image_W)\n",
    "        model = FCN4s(n_class=n_class)\n",
    "        outputs = model(inputs)\n",
    "        self.assertTupleEqual((batch_size, n_class, image_H, image_W), outputs.size())\n",
    "        \n",
    "    def test_fcn4s_output_size2(self):\n",
    "        batch_size = 5\n",
    "        num_channel, image_H, image_W = 3, 64, 64\n",
    "        n_class = 12\n",
    "        \n",
    "        inputs = torch.randn(batch_size, num_channel, image_H, image_W)\n",
    "        model = FCN4s(n_class=n_class)\n",
    "        outputs = model(inputs)\n",
    "        self.assertTupleEqual((batch_size, n_class, image_H, image_W), outputs.size()) "
   ]
  },
  {
   "cell_type": "markdown",
   "metadata": {},
   "source": [
    "# Train FCN 4s\n",
    "\n",
    "<img src='./resources/fcn.png' width='80%' align='left'/>"
   ]
  },
  {
   "cell_type": "markdown",
   "metadata": {},
   "source": [
    "## Trainer"
   ]
  },
  {
   "cell_type": "code",
   "execution_count": 81,
   "metadata": {},
   "outputs": [],
   "source": [
    "import copy\n",
    "import time\n",
    "\n",
    "import torch\n",
    "import torch.nn.functional as F\n",
    "\n",
    "from losses import dice_loss_with_logits\n",
    "from metric import AverageMeterSet\n",
    "\n",
    "\n",
    "def print_metrics(phase, average_meter_set: AverageMeterSet):\n",
    "    results = [\"{}: {:4f}\".format(k, v) for k, v in average_meter_set.averages().items()]\n",
    "    print(\"{}: {}\".format(phase, \", \".join(results)))\n",
    "\n",
    "\n",
    "def train_one_epoch(model, dataloader, optimizer, device, bce_weight=0.5):\n",
    "    average_meter_set = AverageMeterSet()\n",
    "    for inputs, labels in dataloader:\n",
    "        inputs = inputs.to(device)\n",
    "        targets = labels.to(device)\n",
    "\n",
    "        # zero the parameter gradients\n",
    "        optimizer.zero_grad()\n",
    "\n",
    "        # forward\n",
    "        # track history if only in train\n",
    "        logits = model(inputs)\n",
    "\n",
    "        bce_loss = F.binary_cross_entropy_with_logits(logits, targets)\n",
    "        dice_loss = dice_loss_with_logits(logits, targets)\n",
    "\n",
    "        loss = bce_loss * bce_weight + dice_loss * (1 - bce_weight)\n",
    "\n",
    "        loss.backward()\n",
    "        optimizer.step()\n",
    "\n",
    "        average_meter_set.update('bce_loss', bce_loss.item())\n",
    "        average_meter_set.update('dice_loss', dice_loss.item())\n",
    "        average_meter_set.update('loss', loss.item())\n",
    "\n",
    "    return average_meter_set, model\n",
    "\n",
    "\n",
    "def validate(model, dataloader, device, bce_weight=0.5):\n",
    "    average_meter_set = AverageMeterSet()\n",
    "    with torch.no_grad():\n",
    "        for inputs, labels in dataloader:\n",
    "            inputs = inputs.to(device)\n",
    "            targets = labels.to(device)\n",
    "\n",
    "            logits = model(inputs)\n",
    "\n",
    "            bce_loss = F.binary_cross_entropy_with_logits(logits, targets)\n",
    "            dice_loss = dice_loss_with_logits(logits, targets)\n",
    "\n",
    "            loss = bce_loss * bce_weight + dice_loss * (1 - bce_weight)\n",
    "\n",
    "            average_meter_set.update('bce_loss', bce_loss.item())\n",
    "            average_meter_set.update('dice_loss', dice_loss.item())\n",
    "            average_meter_set.update('loss', loss.item())\n",
    "\n",
    "    return average_meter_set\n",
    "\n",
    "\n",
    "def train_model(model, dataloaders, optimizer, lr_scheduler, device, bce_weight=0.5, num_epochs=25):\n",
    "    model = model.to(device)\n",
    "    best_model_wts = copy.deepcopy(model.state_dict())\n",
    "    best_loss = 1e10\n",
    "\n",
    "    for epoch in range(num_epochs):\n",
    "        print('Epoch {}/{}'.format(epoch, num_epochs - 1))\n",
    "        print('-' * 10)\n",
    "\n",
    "        since = time.time()\n",
    "\n",
    "        # Each epoch has a training and validation phase\n",
    "        for phase in ['train', 'val']:\n",
    "            if phase == 'train':\n",
    "                model.train()  # Set model to training mode\n",
    "                for param_group in optimizer.param_groups:\n",
    "                    print(\"LR\", param_group['lr'])\n",
    "                average_meter_set, model = train_one_epoch(model, dataloaders[phase], optimizer, device, bce_weight)\n",
    "                print_metrics(phase, average_meter_set)\n",
    "                lr_scheduler.step()\n",
    "            else:\n",
    "                model.eval()  # Set model to evaluate mode\n",
    "                average_meter_set = validate(model, dataloaders[phase], device, bce_weight)\n",
    "                print_metrics(phase, average_meter_set)\n",
    "                epoch_loss = average_meter_set.averages()['loss']\n",
    "\n",
    "                if epoch_loss < best_loss:\n",
    "                    print(\"Saving the Best Model\")\n",
    "                    best_loss = epoch_loss\n",
    "                    best_model_wts = copy.deepcopy(model.state_dict())\n",
    "\n",
    "        time_elapsed = time.time() - since\n",
    "        print('{:.0f}m {:.0f}s'.format(time_elapsed // 60, time_elapsed % 60))\n",
    "    print('Best val loss: {:4f}'.format(best_loss))\n",
    "\n",
    "    # load best model weights\n",
    "    model.load_state_dict(best_model_wts)\n",
    "    return model"
   ]
  },
  {
   "cell_type": "markdown",
   "metadata": {},
   "source": [
    "### Training Configurations"
   ]
  },
  {
   "cell_type": "code",
   "execution_count": 74,
   "metadata": {},
   "outputs": [],
   "source": [
    "device = torch.device(\"cuda:0\" if torch.cuda.is_available() else \"cpu\")\n",
    "batch_size = 25\n",
    "n_class = 5\n",
    "bce_weight = 0.5"
   ]
  },
  {
   "cell_type": "markdown",
   "metadata": {},
   "source": [
    "### DataLoader"
   ]
  },
  {
   "cell_type": "code",
   "execution_count": 17,
   "metadata": {},
   "outputs": [
    {
     "data": {
      "text/plain": [
       "{'train': 2000, 'val': 200}"
      ]
     },
     "execution_count": 17,
     "metadata": {},
     "output_type": "execute_result"
    }
   ],
   "source": [
    "dataloaders = {\n",
    "    'train': DataLoader(train_set, batch_size=batch_size, shuffle=True, num_workers=0),\n",
    "    'val': DataLoader(val_set, batch_size=batch_size, shuffle=True, num_workers=0)\n",
    "}\n",
    "\n",
    "dataset_sizes = {\n",
    "    x: len(image_datasets[x]) for x in image_datasets.keys()\n",
    "}\n",
    "\n",
    "dataset_sizes"
   ]
  },
  {
   "cell_type": "code",
   "execution_count": 22,
   "metadata": {},
   "outputs": [],
   "source": [
    "def reverse_transform(inp: torch.Tensor):\n",
    "    inp = inp.numpy().transpose((1, 2, 0))\n",
    "    inp = np.clip(inp, 0, 1)\n",
    "    inp = (inp * 255).astype(np.uint8)\n",
    "    \n",
    "    return inp"
   ]
  },
  {
   "cell_type": "code",
   "execution_count": 23,
   "metadata": {},
   "outputs": [
    {
     "name": "stdout",
     "output_type": "stream",
     "text": [
      "Inputs' Size should be [batch_size, num_channel, height, width]: torch.Size([25, 3, 128, 128])\n",
      "Masks' Size should be [batch_size, num_classes, height, width]: torch.Size([25, 5, 128, 128])\n",
      "0.0 1.0 0.0446875 0.20661686\n",
      "0.0 1.0 0.009103515 0.09497706\n"
     ]
    },
    {
     "data": {
      "text/plain": [
       "<matplotlib.image.AxesImage at 0x7fbefbab6bd0>"
      ]
     },
     "execution_count": 23,
     "metadata": {},
     "output_type": "execute_result"
    },
    {
     "data": {
      "image/png": "[encoded data removed]",
      "text/plain": [
       "<Figure size 432x288 with 1 Axes>"
      ]
     },
     "metadata": {
      "needs_background": "light"
     },
     "output_type": "display_data"
    }
   ],
   "source": [
    "# Get a batch of training data\n",
    "inputs, masks = next(iter(dataloaders['train']))\n",
    "\n",
    "print(\"Inputs' Size should be [batch_size, num_channel, height, width]: {}\".format(inputs.shape))\n",
    "print(\"Masks' Size should be [batch_size, num_classes, height, width]: {}\".format(masks.shape))\n",
    "\n",
    "for x in [inputs.numpy(), masks.numpy()]:\n",
    "    print(x.min(), x.max(), x.mean(), x.std())\n",
    "\n",
    "plt.imshow(reverse_transform(inputs[3]))"
   ]
  },
  {
   "cell_type": "markdown",
   "metadata": {},
   "source": [
    "### Create Model, Optimizer, Learning Rate Scheduler"
   ]
  },
  {
   "cell_type": "code",
   "execution_count": 76,
   "metadata": {},
   "outputs": [],
   "source": [
    "import torch\n",
    "import torch.optim as optim\n",
    "from torch.optim import lr_scheduler\n",
    "\n",
    "fcn = FCN4s(n_class=n_class)\n",
    "# Observe that all parameters are being optimized\n",
    "optimizer_ft = optim.Adam(fcn.parameters(), lr=1e-3)\n",
    "\n",
    "exp_lr_scheduler = lr_scheduler.StepLR(optimizer_ft, step_size=15, gamma=0.1)"
   ]
  },
  {
   "cell_type": "markdown",
   "metadata": {},
   "source": [
    "### Let's Train"
   ]
  },
  {
   "cell_type": "code",
   "execution_count": 82,
   "metadata": {},
   "outputs": [
    {
     "name": "stdout",
     "output_type": "stream",
     "text": [
      "Epoch 0/24\n",
      "----------\n",
      "LR 0.001\n",
      "train: bce_loss: 0.020979, dice_loss: 0.341017, loss: 0.180998\n",
      "val: bce_loss: 0.017343, dice_loss: 0.334135, loss: 0.175739\n",
      "Saving the Best Model\n",
      "0m 3s\n",
      "Epoch 1/24\n",
      "----------\n",
      "LR 0.001\n",
      "train: bce_loss: 0.016619, dice_loss: 0.315031, loss: 0.165825\n",
      "val: bce_loss: 0.015759, dice_loss: 0.308241, loss: 0.162000\n",
      "Saving the Best Model\n",
      "0m 3s\n",
      "Epoch 2/24\n",
      "----------\n",
      "LR 0.001\n",
      "train: bce_loss: 0.014077, dice_loss: 0.296749, loss: 0.155413\n",
      "val: bce_loss: 0.015003, dice_loss: 0.299612, loss: 0.157308\n",
      "Saving the Best Model\n",
      "0m 3s\n",
      "Epoch 3/24\n",
      "----------\n",
      "LR 0.001\n",
      "train: bce_loss: 0.012620, dice_loss: 0.288384, loss: 0.150502\n",
      "val: bce_loss: 0.014716, dice_loss: 0.295929, loss: 0.155323\n",
      "Saving the Best Model\n",
      "0m 3s\n",
      "Epoch 4/24\n",
      "----------\n",
      "LR 0.001\n",
      "train: bce_loss: 0.011785, dice_loss: 0.278702, loss: 0.145244\n",
      "val: bce_loss: 0.011436, dice_loss: 0.283207, loss: 0.147322\n",
      "Saving the Best Model\n",
      "0m 3s\n",
      "Epoch 5/24\n",
      "----------\n",
      "LR 0.001\n",
      "train: bce_loss: 0.011034, dice_loss: 0.274486, loss: 0.142760\n",
      "val: bce_loss: 0.011946, dice_loss: 0.277486, loss: 0.144716\n",
      "Saving the Best Model\n",
      "0m 3s\n",
      "Epoch 6/24\n",
      "----------\n",
      "LR 0.001\n",
      "train: bce_loss: 0.010178, dice_loss: 0.268915, loss: 0.139547\n",
      "val: bce_loss: 0.009829, dice_loss: 0.267706, loss: 0.138767\n",
      "Saving the Best Model\n",
      "0m 3s\n",
      "Epoch 7/24\n",
      "----------\n",
      "LR 0.001\n",
      "train: bce_loss: 0.009464, dice_loss: 0.262805, loss: 0.136135\n",
      "val: bce_loss: 0.009875, dice_loss: 0.268375, loss: 0.139125\n",
      "0m 3s\n",
      "Epoch 8/24\n",
      "----------\n",
      "LR 0.001\n",
      "train: bce_loss: 0.008788, dice_loss: 0.256774, loss: 0.132781\n",
      "val: bce_loss: 0.008288, dice_loss: 0.264585, loss: 0.136437\n",
      "Saving the Best Model\n",
      "0m 3s\n",
      "Epoch 9/24\n",
      "----------\n",
      "LR 0.001\n",
      "train: bce_loss: 0.008254, dice_loss: 0.254120, loss: 0.131187\n",
      "val: bce_loss: 0.010210, dice_loss: 0.261973, loss: 0.136091\n",
      "Saving the Best Model\n",
      "0m 3s\n",
      "Epoch 10/24\n",
      "----------\n",
      "LR 0.001\n",
      "train: bce_loss: 0.007944, dice_loss: 0.252097, loss: 0.130020\n",
      "val: bce_loss: 0.008707, dice_loss: 0.259450, loss: 0.134079\n",
      "Saving the Best Model\n",
      "0m 3s\n",
      "Epoch 11/24\n",
      "----------\n",
      "LR 0.001\n",
      "train: bce_loss: 0.007463, dice_loss: 0.248789, loss: 0.128126\n",
      "val: bce_loss: 0.007154, dice_loss: 0.258926, loss: 0.133040\n",
      "Saving the Best Model\n",
      "0m 3s\n",
      "Epoch 12/24\n",
      "----------\n",
      "LR 0.001\n",
      "train: bce_loss: 0.007003, dice_loss: 0.245898, loss: 0.126450\n",
      "val: bce_loss: 0.007874, dice_loss: 0.252019, loss: 0.129947\n",
      "Saving the Best Model\n",
      "0m 3s\n",
      "Epoch 13/24\n",
      "----------\n",
      "LR 0.001\n",
      "train: bce_loss: 0.006550, dice_loss: 0.242830, loss: 0.124690\n",
      "val: bce_loss: 0.008067, dice_loss: 0.252094, loss: 0.130080\n",
      "0m 3s\n",
      "Epoch 14/24\n",
      "----------\n",
      "LR 0.001\n",
      "train: bce_loss: 0.006304, dice_loss: 0.242073, loss: 0.124189\n",
      "val: bce_loss: 0.008600, dice_loss: 0.253745, loss: 0.131173\n",
      "0m 3s\n",
      "Epoch 15/24\n",
      "----------\n",
      "LR 0.0001\n",
      "train: bce_loss: 0.005928, dice_loss: 0.238378, loss: 0.122153\n",
      "val: bce_loss: 0.006354, dice_loss: 0.246153, loss: 0.126253\n",
      "Saving the Best Model\n",
      "0m 3s\n",
      "Epoch 16/24\n",
      "----------\n",
      "LR 0.0001\n",
      "train: bce_loss: 0.005758, dice_loss: 0.237145, loss: 0.121452\n",
      "val: bce_loss: 0.006100, dice_loss: 0.245922, loss: 0.126011\n",
      "Saving the Best Model\n",
      "0m 3s\n",
      "Epoch 17/24\n",
      "----------\n",
      "LR 0.0001\n",
      "train: bce_loss: 0.005701, dice_loss: 0.236575, loss: 0.121138\n",
      "val: bce_loss: 0.006030, dice_loss: 0.246090, loss: 0.126060\n",
      "0m 3s\n",
      "Epoch 18/24\n",
      "----------\n",
      "LR 0.0001\n",
      "train: bce_loss: 0.005656, dice_loss: 0.236269, loss: 0.120963\n",
      "val: bce_loss: 0.006048, dice_loss: 0.245571, loss: 0.125810\n",
      "Saving the Best Model\n",
      "0m 3s\n",
      "Epoch 19/24\n",
      "----------\n",
      "LR 0.0001\n",
      "train: bce_loss: 0.005593, dice_loss: 0.235783, loss: 0.120688\n",
      "val: bce_loss: 0.006076, dice_loss: 0.245729, loss: 0.125902\n",
      "0m 4s\n",
      "Epoch 20/24\n",
      "----------\n",
      "LR 0.0001\n",
      "train: bce_loss: 0.005540, dice_loss: 0.235417, loss: 0.120478\n",
      "val: bce_loss: 0.006005, dice_loss: 0.245666, loss: 0.125835\n",
      "0m 3s\n",
      "Epoch 21/24\n",
      "----------\n",
      "LR 0.0001\n",
      "train: bce_loss: 0.005502, dice_loss: 0.235299, loss: 0.120401\n",
      "val: bce_loss: 0.005978, dice_loss: 0.245267, loss: 0.125623\n",
      "Saving the Best Model\n",
      "0m 3s\n",
      "Epoch 22/24\n",
      "----------\n",
      "LR 0.0001\n",
      "train: bce_loss: 0.005445, dice_loss: 0.234953, loss: 0.120199\n",
      "val: bce_loss: 0.005837, dice_loss: 0.245012, loss: 0.125424\n",
      "Saving the Best Model\n",
      "0m 4s\n",
      "Epoch 23/24\n",
      "----------\n",
      "LR 0.0001\n",
      "train: bce_loss: 0.005416, dice_loss: 0.234694, loss: 0.120055\n",
      "val: bce_loss: 0.006013, dice_loss: 0.244572, loss: 0.125293\n",
      "Saving the Best Model\n",
      "0m 4s\n",
      "Epoch 24/24\n",
      "----------\n",
      "LR 0.0001\n",
      "train: bce_loss: 0.005366, dice_loss: 0.234260, loss: 0.119813\n",
      "val: bce_loss: 0.005640, dice_loss: 0.244914, loss: 0.125277\n",
      "Saving the Best Model\n",
      "0m 3s\n",
      "Best val loss: 0.125277\n"
     ]
    }
   ],
   "source": [
    "fcn = train_model(fcn, dataloaders, optimizer_ft, exp_lr_scheduler, device, bce_weight, num_epochs=25)"
   ]
  },
  {
   "cell_type": "markdown",
   "metadata": {},
   "source": [
    "### Visualizing the Results"
   ]
  },
  {
   "cell_type": "code",
   "execution_count": 84,
   "metadata": {},
   "outputs": [
    {
     "name": "stdout",
     "output_type": "stream",
     "text": [
      "(3, 5, 128, 128)\n"
     ]
    },
    {
     "data": {
      "image/png": "[encoded data removed]",
      "text/plain": [
       "<Figure size 864x864 with 9 Axes>"
      ]
     },
     "metadata": {
      "needs_background": "light"
     },
     "output_type": "display_data"
    }
   ],
   "source": [
    "# prediction\n",
    "\n",
    "import math\n",
    "\n",
    "fcn.eval()   # Set model to evaluate mode\n",
    "\n",
    "test_dataset = SimDataset(3, transform = transform)\n",
    "test_loader = DataLoader(test_dataset, batch_size=3, shuffle=False, num_workers=0)\n",
    "        \n",
    "inputs, labels = next(iter(test_loader))\n",
    "inputs = inputs.to(device)\n",
    "labels = labels.to(device)\n",
    "\n",
    "pred = fcn(inputs)\n",
    "\n",
    "pred = pred.data.cpu().numpy()\n",
    "print(pred.shape)\n",
    "\n",
    "# Change channel-order and make 3 channels for matplot\n",
    "input_images_rgb = [reverse_transform(x) for x in inputs.cpu()]\n",
    "\n",
    "# Map each channel (i.e. class) to each color\n",
    "target_masks_rgb = [utils.masks_to_colorimg(x) for x in labels.cpu().numpy()]\n",
    "pred_rgb = [utils.masks_to_colorimg(x) for x in pred]\n",
    "\n",
    "utils.plot_side_by_side([input_images_rgb, target_masks_rgb, pred_rgb])"
   ]
  },
  {
   "cell_type": "markdown",
   "metadata": {},
   "source": [
    "# Train UNet\n",
    "\n",
    "\n",
    "<img src='./resources/unet.png' width='80%' align='middle'/>"
   ]
  },
  {
   "cell_type": "code",
   "execution_count": 104,
   "metadata": {},
   "outputs": [],
   "source": [
    "def double_conv(in_channels, out_channels):\n",
    "    return nn.Sequential(\n",
    "        nn.Conv2d(in_channels, out_channels, 3, padding=1),\n",
    "        nn.ReLU(inplace=True),\n",
    "        nn.Conv2d(out_channels, out_channels, 3, padding=1),\n",
    "        nn.ReLU(inplace=True)\n",
    "    )"
   ]
  },
  {
   "cell_type": "code",
   "execution_count": 112,
   "metadata": {},
   "outputs": [],
   "source": [
    "class Fusion2(nn.Module):\n",
    "    def __init__(self, upper_channel_size: int, lower_channel_size: int):\n",
    "        super().__init__()\n",
    "        self.upsample = nn.Upsample(scale_factor=2, mode='bilinear', align_corners=True)\n",
    "        self.dconv_up = double_conv(upper_channel_size + lower_channel_size, lower_channel_size)\n",
    "\n",
    "    def forward(self, upper_feature_map: torch.Tensor, lower_feature_map: torch.Tensor) -> torch.Tensor:\n",
    "        raise NotImplementedError"
   ]
  },
  {
   "cell_type": "code",
   "execution_count": 113,
   "metadata": {},
   "outputs": [
    {
     "data": {
      "application/unittest.status+json": {
       "color": "yellow",
       "message": "",
       "previous": 0
      },
      "text/plain": []
     },
     "metadata": {},
     "output_type": "display_data"
    },
    {
     "data": {
      "application/unittest.status+json": {
       "color": "lightgreen",
       "message": ".\n----------------------------------------------------------------------\nRan 1 test in 0.188s\n\nOK\n",
       "previous": 0
      },
      "text/plain": [
       "Success"
      ]
     },
     "metadata": {},
     "output_type": "display_data"
    },
    {
     "name": "stdout",
     "output_type": "stream",
     "text": [
      ".\n",
      "----------------------------------------------------------------------\n",
      "Ran 1 test in 0.188s\n",
      "\n",
      "OK\n"
     ]
    },
    {
     "data": {
      "text/plain": [
       "<unittest.runner.TextTestResult run=1 errors=0 failures=0>"
      ]
     },
     "execution_count": 113,
     "metadata": {},
     "output_type": "execute_result"
    }
   ],
   "source": [
    "%%unittest_main\n",
    "\n",
    "\n",
    "class TestFusion2(unittest.TestCase):\n",
    "    def setUp(self):\n",
    "        self.batch_size = 5\n",
    "        self.upper_feature_size = 32\n",
    "        self.lower_feature_size = 64\n",
    "        self.epsilon = 1e-4\n",
    "    \n",
    "    def test_fused_feature_size_should_be_equal_to_lower_feature_map_size(self):\n",
    "        upper_feature_channel_size = 256\n",
    "        lower_feature_channel_size = 128\n",
    "\n",
    "        upper_features = torch.randn(self.batch_size, upper_feature_channel_size, self.upper_feature_size, self.upper_feature_size)\n",
    "        lower_features = torch.randn(self.batch_size, lower_feature_channel_size, self.lower_feature_size, self.lower_feature_size)\n",
    "        \n",
    "        fusion = Fusion2(upper_feature_channel_size, lower_feature_channel_size)\n",
    "        fused_features = fusion(upper_features, lower_features)\n",
    "        self.assertTupleEqual(lower_features.size(), fused_features.size())"
   ]
  },
  {
   "cell_type": "code",
   "execution_count": 117,
   "metadata": {},
   "outputs": [],
   "source": [
    "import torch\n",
    "import torch.nn as nn\n",
    "\n",
    "\n",
    "class UNet(nn.Module):\n",
    "\n",
    "    def __init__(self, n_class):\n",
    "        super().__init__()\n",
    "\n",
    "        self.dconv_down1 = double_conv(3, 64)\n",
    "        self.dconv_down2 = double_conv(64, 128)\n",
    "        self.dconv_down3 = double_conv(128, 256)\n",
    "        self.dconv_down4 = double_conv(256, 512)\n",
    "\n",
    "        self.maxpool = nn.MaxPool2d(2)\n",
    "        \n",
    "        self.fuse_up3 = Fusion2(512, 256)\n",
    "        self.fuse_up2 = Fusion2(256, 128)\n",
    "        self.fuse_up1 = Fusion2(128, 64)\n",
    "\n",
    "        self.conv_last = nn.Conv2d(64, n_class, 1)\n",
    "\n",
    "    def forward(self, x):\n",
    "        conv1 = ? # size=(N, 64, x.H, x.W)\n",
    "        x = ?  # size=(N, 64, x.H/2, x.W/2)\n",
    "\n",
    "        conv2 = ?  # size=(N, 128, x.H/2, x.W/2)\n",
    "        x = ?  # size=(N, 128, x.H/4, x.W/4)\n",
    "\n",
    "        conv3 = ?  # size=(N, 256, x.H/4, x.W/4)\n",
    "        x = ?  # size=(N, 256, x.H/8, x.W/8)\n",
    "\n",
    "        conv4 = ?  # size=(N, 512, x.H/8, x.W/8)\n",
    "        \n",
    "        x = ?  # size=(N, 256, x.H/4, x.W/4)\n",
    "        x = ?  # size=(N, 128, x.H/2, x.W/2)\n",
    "        x = ?  # size=(N, 64, x.H, x.W)\n",
    "        \n",
    "        out = ?  # size=(N, n_class, x.H, x.W)\n",
    "        return out"
   ]
  },
  {
   "cell_type": "code",
   "execution_count": 121,
   "metadata": {},
   "outputs": [
    {
     "data": {
      "application/unittest.status+json": {
       "color": "yellow",
       "message": "",
       "previous": 0
      },
      "text/plain": []
     },
     "metadata": {},
     "output_type": "display_data"
    },
    {
     "data": {
      "application/unittest.status+json": {
       "color": "lightgreen",
       "message": "..\n----------------------------------------------------------------------\nRan 2 tests in 0.495s\n\nOK\n",
       "previous": 0
      },
      "text/plain": [
       "Success"
      ]
     },
     "metadata": {},
     "output_type": "display_data"
    },
    {
     "name": "stdout",
     "output_type": "stream",
     "text": [
      "..\n",
      "----------------------------------------------------------------------\n",
      "Ran 2 tests in 0.495s\n",
      "\n",
      "OK\n"
     ]
    },
    {
     "data": {
      "text/plain": [
       "<unittest.runner.TextTestResult run=2 errors=0 failures=0>"
      ]
     },
     "execution_count": 121,
     "metadata": {},
     "output_type": "execute_result"
    }
   ],
   "source": [
    "%%unittest_main\n",
    "\n",
    "\n",
    "class TestUNet(unittest.TestCase):\n",
    "    def test_unet_output_size1(self):\n",
    "        batch_size = 3\n",
    "        num_channel, image_H, image_W = 3, 128, 128\n",
    "        n_class = 5\n",
    "        \n",
    "        inputs = torch.randn(batch_size, num_channel, image_H, image_W)\n",
    "        model = UNet(n_class=n_class)\n",
    "        outputs = model(inputs)\n",
    "        self.assertTupleEqual((batch_size, n_class, image_H, image_W), outputs.size())\n",
    "        \n",
    "    def test_unet_output_size2(self):\n",
    "        batch_size = 5\n",
    "        num_channel, image_H, image_W = 3, 64, 64\n",
    "        n_class = 12\n",
    "        \n",
    "        inputs = torch.randn(batch_size, num_channel, image_H, image_W)\n",
    "        model = UNet(n_class=n_class)\n",
    "        outputs = model(inputs)\n",
    "        self.assertTupleEqual((batch_size, n_class, image_H, image_W), outputs.size()) "
   ]
  },
  {
   "cell_type": "markdown",
   "metadata": {},
   "source": [
    "### Create Model, Optimizer, Learning Rate Scheduler"
   ]
  },
  {
   "cell_type": "code",
   "execution_count": 122,
   "metadata": {},
   "outputs": [],
   "source": [
    "unet = UNet(n_class=n_class)\n",
    "\n",
    "optimizer_ft = optim.Adam(unet.parameters(), lr=1e-3)\n",
    "\n",
    "exp_lr_scheduler = lr_scheduler.StepLR(optimizer_ft, step_size=15, gamma=0.1)"
   ]
  },
  {
   "cell_type": "code",
   "execution_count": 123,
   "metadata": {},
   "outputs": [
    {
     "name": "stdout",
     "output_type": "stream",
     "text": [
      "Epoch 0/24\n",
      "----------\n",
      "LR 0.001\n",
      "train: bce_loss: 0.170005, dice_loss: 0.899894, loss: 0.534950\n",
      "val: bce_loss: 0.021698, dice_loss: 0.728167, loss: 0.374932\n",
      "Saving the Best Model\n",
      "0m 11s\n",
      "Epoch 1/24\n",
      "----------\n",
      "LR 0.001\n",
      "train: bce_loss: 0.020875, dice_loss: 0.514395, loss: 0.267635\n",
      "val: bce_loss: 0.012755, dice_loss: 0.335784, loss: 0.174270\n",
      "Saving the Best Model\n",
      "0m 11s\n",
      "Epoch 2/24\n",
      "----------\n",
      "LR 0.001\n",
      "train: bce_loss: 0.007894, dice_loss: 0.274425, loss: 0.141160\n",
      "val: bce_loss: 0.006428, dice_loss: 0.256019, loss: 0.131224\n",
      "Saving the Best Model\n",
      "0m 12s\n",
      "Epoch 3/24\n",
      "----------\n",
      "LR 0.001\n",
      "train: bce_loss: 0.004569, dice_loss: 0.238360, loss: 0.121465\n",
      "val: bce_loss: 0.004254, dice_loss: 0.240172, loss: 0.122213\n",
      "Saving the Best Model\n",
      "0m 12s\n",
      "Epoch 4/24\n",
      "----------\n",
      "LR 0.001\n",
      "train: bce_loss: 0.004055, dice_loss: 0.236214, loss: 0.120134\n",
      "val: bce_loss: 0.003238, dice_loss: 0.235408, loss: 0.119323\n",
      "Saving the Best Model\n",
      "0m 12s\n",
      "Epoch 5/24\n",
      "----------\n",
      "LR 0.001\n",
      "train: bce_loss: 0.003047, dice_loss: 0.227194, loss: 0.115120\n",
      "val: bce_loss: 0.002937, dice_loss: 0.229536, loss: 0.116236\n",
      "Saving the Best Model\n",
      "0m 12s\n",
      "Epoch 6/24\n",
      "----------\n",
      "LR 0.001\n",
      "train: bce_loss: 0.002398, dice_loss: 0.223530, loss: 0.112964\n",
      "val: bce_loss: 0.002523, dice_loss: 0.229577, loss: 0.116050\n",
      "Saving the Best Model\n",
      "0m 12s\n",
      "Epoch 7/24\n",
      "----------\n",
      "LR 0.001\n",
      "train: bce_loss: 0.001997, dice_loss: 0.221645, loss: 0.111821\n",
      "val: bce_loss: 0.001960, dice_loss: 0.225869, loss: 0.113915\n",
      "Saving the Best Model\n",
      "0m 12s\n",
      "Epoch 8/24\n",
      "----------\n",
      "LR 0.001\n",
      "train: bce_loss: 0.001757, dice_loss: 0.220388, loss: 0.111073\n",
      "val: bce_loss: 0.001926, dice_loss: 0.226000, loss: 0.113963\n",
      "0m 12s\n",
      "Epoch 9/24\n",
      "----------\n",
      "LR 0.001\n",
      "train: bce_loss: 0.001768, dice_loss: 0.221475, loss: 0.111621\n",
      "val: bce_loss: 0.001586, dice_loss: 0.224027, loss: 0.112807\n",
      "Saving the Best Model\n",
      "0m 12s\n",
      "Epoch 10/24\n",
      "----------\n",
      "LR 0.001\n",
      "train: bce_loss: 0.001407, dice_loss: 0.218267, loss: 0.109837\n",
      "val: bce_loss: 0.001483, dice_loss: 0.222399, loss: 0.111941\n",
      "Saving the Best Model\n",
      "0m 12s\n",
      "Epoch 11/24\n",
      "----------\n",
      "LR 0.001\n",
      "train: bce_loss: 0.001316, dice_loss: 0.217278, loss: 0.109297\n",
      "val: bce_loss: 0.001622, dice_loss: 0.224289, loss: 0.112956\n",
      "0m 12s\n",
      "Epoch 12/24\n",
      "----------\n",
      "LR 0.001\n",
      "train: bce_loss: 0.001338, dice_loss: 0.217331, loss: 0.109335\n",
      "val: bce_loss: 0.001603, dice_loss: 0.222621, loss: 0.112112\n",
      "0m 12s\n",
      "Epoch 13/24\n",
      "----------\n",
      "LR 0.001\n",
      "train: bce_loss: 0.001393, dice_loss: 0.218098, loss: 0.109745\n",
      "val: bce_loss: 0.001419, dice_loss: 0.222959, loss: 0.112189\n",
      "0m 12s\n",
      "Epoch 14/24\n",
      "----------\n",
      "LR 0.001\n",
      "train: bce_loss: 0.001220, dice_loss: 0.216696, loss: 0.108958\n",
      "val: bce_loss: 0.001399, dice_loss: 0.220460, loss: 0.110930\n",
      "Saving the Best Model\n",
      "0m 12s\n",
      "Epoch 15/24\n",
      "----------\n",
      "LR 0.0001\n",
      "train: bce_loss: 0.001124, dice_loss: 0.214837, loss: 0.107980\n",
      "val: bce_loss: 0.001300, dice_loss: 0.219943, loss: 0.110622\n",
      "Saving the Best Model\n",
      "0m 12s\n",
      "Epoch 16/24\n",
      "----------\n",
      "LR 0.0001\n",
      "train: bce_loss: 0.001083, dice_loss: 0.214468, loss: 0.107776\n",
      "val: bce_loss: 0.001289, dice_loss: 0.219746, loss: 0.110518\n",
      "Saving the Best Model\n",
      "0m 12s\n",
      "Epoch 17/24\n",
      "----------\n",
      "LR 0.0001\n",
      "train: bce_loss: 0.001083, dice_loss: 0.214236, loss: 0.107659\n",
      "val: bce_loss: 0.001319, dice_loss: 0.219538, loss: 0.110429\n",
      "Saving the Best Model\n",
      "0m 12s\n",
      "Epoch 18/24\n",
      "----------\n",
      "LR 0.0001\n",
      "train: bce_loss: 0.001075, dice_loss: 0.214060, loss: 0.107567\n",
      "val: bce_loss: 0.001321, dice_loss: 0.219347, loss: 0.110334\n",
      "Saving the Best Model\n",
      "0m 12s\n",
      "Epoch 19/24\n",
      "----------\n",
      "LR 0.0001\n",
      "train: bce_loss: 0.001068, dice_loss: 0.213876, loss: 0.107472\n",
      "val: bce_loss: 0.001358, dice_loss: 0.219408, loss: 0.110383\n",
      "0m 12s\n",
      "Epoch 20/24\n",
      "----------\n",
      "LR 0.0001\n",
      "train: bce_loss: 0.001081, dice_loss: 0.213700, loss: 0.107391\n",
      "val: bce_loss: 0.001291, dice_loss: 0.219310, loss: 0.110301\n",
      "Saving the Best Model\n",
      "0m 12s\n",
      "Epoch 21/24\n",
      "----------\n",
      "LR 0.0001\n",
      "train: bce_loss: 0.001063, dice_loss: 0.213530, loss: 0.107296\n",
      "val: bce_loss: 0.001299, dice_loss: 0.219297, loss: 0.110298\n",
      "Saving the Best Model\n",
      "0m 12s\n",
      "Epoch 22/24\n",
      "----------\n",
      "LR 0.0001\n",
      "train: bce_loss: 0.001057, dice_loss: 0.213436, loss: 0.107247\n",
      "val: bce_loss: 0.001324, dice_loss: 0.219169, loss: 0.110247\n",
      "Saving the Best Model\n",
      "0m 12s\n",
      "Epoch 23/24\n",
      "----------\n",
      "LR 0.0001\n",
      "train: bce_loss: 0.001054, dice_loss: 0.213295, loss: 0.107174\n",
      "val: bce_loss: 0.001307, dice_loss: 0.218966, loss: 0.110136\n",
      "Saving the Best Model\n",
      "0m 12s\n",
      "Epoch 24/24\n",
      "----------\n",
      "LR 0.0001\n",
      "train: bce_loss: 0.001053, dice_loss: 0.213167, loss: 0.107110\n",
      "val: bce_loss: 0.001275, dice_loss: 0.218946, loss: 0.110110\n",
      "Saving the Best Model\n",
      "0m 12s\n",
      "Best val loss: 0.110110\n"
     ]
    }
   ],
   "source": [
    "unet = train_model(unet, dataloaders, optimizer_ft, exp_lr_scheduler, device, bce_weight, num_epochs=25)"
   ]
  },
  {
   "cell_type": "markdown",
   "metadata": {},
   "source": [
    "### Visualizing the Results"
   ]
  },
  {
   "cell_type": "code",
   "execution_count": 125,
   "metadata": {},
   "outputs": [
    {
     "name": "stdout",
     "output_type": "stream",
     "text": [
      "(3, 5, 128, 128)\n"
     ]
    },
    {
     "data": {
      "image/png": "[encoded data removed]",
      "text/plain": [
       "<Figure size 864x864 with 9 Axes>"
      ]
     },
     "metadata": {
      "needs_background": "light"
     },
     "output_type": "display_data"
    }
   ],
   "source": [
    "# prediction\n",
    "\n",
    "import math\n",
    "\n",
    "unet.eval()   # Set model to evaluate mode\n",
    "\n",
    "test_dataset = SimDataset(3, transform = transform)\n",
    "test_loader = DataLoader(test_dataset, batch_size=3, shuffle=False, num_workers=0)\n",
    "        \n",
    "inputs, labels = next(iter(test_loader))\n",
    "inputs = inputs.to(device)\n",
    "labels = labels.to(device)\n",
    "\n",
    "pred = unet(inputs)\n",
    "\n",
    "pred = pred.data.cpu().numpy()\n",
    "print(pred.shape)\n",
    "\n",
    "# Change channel-order and make 3 channels for matplot\n",
    "input_images_rgb = [reverse_transform(x) for x in inputs.cpu()]\n",
    "\n",
    "# Map each channel (i.e. class) to each color\n",
    "target_masks_rgb = [utils.masks_to_colorimg(x) for x in labels.cpu().numpy()]\n",
    "pred_rgb = [utils.masks_to_colorimg(x) for x in pred]\n",
    "\n",
    "utils.plot_side_by_side([input_images_rgb, target_masks_rgb, pred_rgb])"
   ]
  }
 ],
 "metadata": {
  "kernelspec": {
   "display_name": "Python 3",
   "language": "python",
   "name": "python3"
  },
  "language_info": {
   "codemirror_mode": {
    "name": "ipython",
    "version": 3
   },
   "file_extension": ".py",
   "mimetype": "text/x-python",
   "name": "python",
   "nbconvert_exporter": "python",
   "pygments_lexer": "ipython3",
   "version": "3.7.7"
  },
  "pycharm": {
   "stem_cell": {
    "cell_type": "raw",
    "metadata": {
     "collapsed": false
    },
    "source": []
   }
  }
 },
 "nbformat": 4,
 "nbformat_minor": 4
}
